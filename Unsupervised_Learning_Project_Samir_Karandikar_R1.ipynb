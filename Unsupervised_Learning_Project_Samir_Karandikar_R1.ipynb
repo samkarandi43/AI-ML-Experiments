{
 "cells": [
  {
   "cell_type": "markdown",
   "metadata": {},
   "source": [
    "## Project: Problem Statement - Credit Card Customer Segmentation\n",
    "##    by Samir Karandikar\n",
    "\n",
    "### AllLife Credit Card Customer Segmentation\n",
    " \n",
    " \n",
    "Background: AllLife Bank wants to focus on its credit card customer base in the next financial year. They have been advised by their marketing research team, that the penetration in the market can be improved. Based on this input, the Marketing team proposes to run personalised campaigns to target new customers as well as upsell to existing customers. Another insight from the market research was that the customers perceive the support services of the back poorly. Based on this, the Operations team wants to upgrade the service delivery model, to ensure that customers queries are resolved faster. Head of Marketing and Head of Delivery both decide to reach out to the Data Science team for help.\n",
    " \n",
    "Objective: To identify different segments in the existing customer based on their spending patterns as well as past interaction with the bank.\n",
    " \n",
    "Key Questions:\n",
    "1.\tHow many different segments of customers are there?\n",
    "2.\tHow are these segments different from each other?\n",
    "3.\tWhat are your recommendations to the bank on how to better market to and service these customers?\n",
    " \n",
    "Data Description: Data is of various customers of a bank with their credit limit, the total number of credit cards the customer has, and different channels through which customer has contacted the bank for any queries, different channels include visiting the bank, online and through a call.\n",
    "•\tCustomer key - Identifier for the customer\n",
    "•\tAverage Credit Limit - Average credit limit across all the credit cards\n",
    "•\tTotal credit cards - Total number of credit cards\n",
    "•\tTotal visits bank - Total number of bank visits\n",
    "•\tTotal visits online - total number of online visits\n",
    "•\tTotal calls made - Total number of calls made by the customer\n"
   ]
  },
  {
   "cell_type": "markdown",
   "metadata": {},
   "source": [
    "## Import Libraries"
   ]
  },
  {
   "cell_type": "code",
   "execution_count": 2,
   "metadata": {},
   "outputs": [],
   "source": [
    "import numpy as np   \n",
    "from sklearn.linear_model import LinearRegression\n",
    "import pandas as pd    \n",
    "import matplotlib.pyplot as plt \n",
    "%matplotlib inline \n",
    "import seaborn as sns\n",
    "from sklearn.decomposition import PCA"
   ]
  },
  {
   "cell_type": "markdown",
   "metadata": {},
   "source": [
    "## Load and Review Data"
   ]
  },
  {
   "cell_type": "code",
   "execution_count": 3,
   "metadata": {},
   "outputs": [
    {
     "name": "stdout",
     "output_type": "stream",
     "text": [
      "['Sheet1']\n"
     ]
    }
   ],
   "source": [
    "Data = pd.ExcelFile(\"Credit Card Customer Data.xlsx\")  \n",
    "print(Data.sheet_names) #this returns the names of all the sheets in the excel file"
   ]
  },
  {
   "cell_type": "code",
   "execution_count": 4,
   "metadata": {},
   "outputs": [
    {
     "data": {
      "text/html": [
       "<div>\n",
       "<style scoped>\n",
       "    .dataframe tbody tr th:only-of-type {\n",
       "        vertical-align: middle;\n",
       "    }\n",
       "\n",
       "    .dataframe tbody tr th {\n",
       "        vertical-align: top;\n",
       "    }\n",
       "\n",
       "    .dataframe thead th {\n",
       "        text-align: right;\n",
       "    }\n",
       "</style>\n",
       "<table border=\"1\" class=\"dataframe\">\n",
       "  <thead>\n",
       "    <tr style=\"text-align: right;\">\n",
       "      <th></th>\n",
       "      <th>Sl_No</th>\n",
       "      <th>Customer Key</th>\n",
       "      <th>Avg_Credit_Limit</th>\n",
       "      <th>Total_Credit_Cards</th>\n",
       "      <th>Total_visits_bank</th>\n",
       "      <th>Total_visits_online</th>\n",
       "      <th>Total_calls_made</th>\n",
       "    </tr>\n",
       "  </thead>\n",
       "  <tbody>\n",
       "    <tr>\n",
       "      <th>0</th>\n",
       "      <td>1</td>\n",
       "      <td>87073</td>\n",
       "      <td>100000</td>\n",
       "      <td>2</td>\n",
       "      <td>1</td>\n",
       "      <td>1</td>\n",
       "      <td>0</td>\n",
       "    </tr>\n",
       "    <tr>\n",
       "      <th>1</th>\n",
       "      <td>2</td>\n",
       "      <td>38414</td>\n",
       "      <td>50000</td>\n",
       "      <td>3</td>\n",
       "      <td>0</td>\n",
       "      <td>10</td>\n",
       "      <td>9</td>\n",
       "    </tr>\n",
       "    <tr>\n",
       "      <th>2</th>\n",
       "      <td>3</td>\n",
       "      <td>17341</td>\n",
       "      <td>50000</td>\n",
       "      <td>7</td>\n",
       "      <td>1</td>\n",
       "      <td>3</td>\n",
       "      <td>4</td>\n",
       "    </tr>\n",
       "    <tr>\n",
       "      <th>3</th>\n",
       "      <td>4</td>\n",
       "      <td>40496</td>\n",
       "      <td>30000</td>\n",
       "      <td>5</td>\n",
       "      <td>1</td>\n",
       "      <td>1</td>\n",
       "      <td>4</td>\n",
       "    </tr>\n",
       "    <tr>\n",
       "      <th>4</th>\n",
       "      <td>5</td>\n",
       "      <td>47437</td>\n",
       "      <td>100000</td>\n",
       "      <td>6</td>\n",
       "      <td>0</td>\n",
       "      <td>12</td>\n",
       "      <td>3</td>\n",
       "    </tr>\n",
       "    <tr>\n",
       "      <th>5</th>\n",
       "      <td>6</td>\n",
       "      <td>58634</td>\n",
       "      <td>20000</td>\n",
       "      <td>3</td>\n",
       "      <td>0</td>\n",
       "      <td>1</td>\n",
       "      <td>8</td>\n",
       "    </tr>\n",
       "    <tr>\n",
       "      <th>6</th>\n",
       "      <td>7</td>\n",
       "      <td>48370</td>\n",
       "      <td>100000</td>\n",
       "      <td>5</td>\n",
       "      <td>0</td>\n",
       "      <td>11</td>\n",
       "      <td>2</td>\n",
       "    </tr>\n",
       "    <tr>\n",
       "      <th>7</th>\n",
       "      <td>8</td>\n",
       "      <td>37376</td>\n",
       "      <td>15000</td>\n",
       "      <td>3</td>\n",
       "      <td>0</td>\n",
       "      <td>1</td>\n",
       "      <td>1</td>\n",
       "    </tr>\n",
       "    <tr>\n",
       "      <th>8</th>\n",
       "      <td>9</td>\n",
       "      <td>82490</td>\n",
       "      <td>5000</td>\n",
       "      <td>2</td>\n",
       "      <td>0</td>\n",
       "      <td>2</td>\n",
       "      <td>2</td>\n",
       "    </tr>\n",
       "    <tr>\n",
       "      <th>9</th>\n",
       "      <td>10</td>\n",
       "      <td>44770</td>\n",
       "      <td>3000</td>\n",
       "      <td>4</td>\n",
       "      <td>0</td>\n",
       "      <td>1</td>\n",
       "      <td>7</td>\n",
       "    </tr>\n",
       "  </tbody>\n",
       "</table>\n",
       "</div>"
      ],
      "text/plain": [
       "   Sl_No  Customer Key  Avg_Credit_Limit  Total_Credit_Cards  \\\n",
       "0      1         87073            100000                   2   \n",
       "1      2         38414             50000                   3   \n",
       "2      3         17341             50000                   7   \n",
       "3      4         40496             30000                   5   \n",
       "4      5         47437            100000                   6   \n",
       "5      6         58634             20000                   3   \n",
       "6      7         48370            100000                   5   \n",
       "7      8         37376             15000                   3   \n",
       "8      9         82490              5000                   2   \n",
       "9     10         44770              3000                   4   \n",
       "\n",
       "   Total_visits_bank  Total_visits_online  Total_calls_made  \n",
       "0                  1                    1                 0  \n",
       "1                  0                   10                 9  \n",
       "2                  1                    3                 4  \n",
       "3                  1                    1                 4  \n",
       "4                  0                   12                 3  \n",
       "5                  0                    1                 8  \n",
       "6                  0                   11                 2  \n",
       "7                  0                    1                 1  \n",
       "8                  0                    2                 2  \n",
       "9                  0                    1                 7  "
      ]
     },
     "execution_count": 4,
     "metadata": {},
     "output_type": "execute_result"
    }
   ],
   "source": [
    "Data_df = Data.parse('Sheet1')\n",
    "Data_df.head(10)\n",
    "# The data in Sheet1 is parsed to Data_df dataframe and we inspect the top 10 rows"
   ]
  },
  {
   "cell_type": "code",
   "execution_count": 5,
   "metadata": {},
   "outputs": [
    {
     "name": "stdout",
     "output_type": "stream",
     "text": [
      "<class 'pandas.core.frame.DataFrame'>\n",
      "RangeIndex: 660 entries, 0 to 659\n",
      "Data columns (total 7 columns):\n",
      " #   Column               Non-Null Count  Dtype\n",
      "---  ------               --------------  -----\n",
      " 0   Sl_No                660 non-null    int64\n",
      " 1   Customer Key         660 non-null    int64\n",
      " 2   Avg_Credit_Limit     660 non-null    int64\n",
      " 3   Total_Credit_Cards   660 non-null    int64\n",
      " 4   Total_visits_bank    660 non-null    int64\n",
      " 5   Total_visits_online  660 non-null    int64\n",
      " 6   Total_calls_made     660 non-null    int64\n",
      "dtypes: int64(7)\n",
      "memory usage: 36.2 KB\n"
     ]
    }
   ],
   "source": [
    "Data_df.info()\n",
    "#We view the information about each column"
   ]
  },
  {
   "cell_type": "code",
   "execution_count": 6,
   "metadata": {},
   "outputs": [],
   "source": [
    "# Credit card data has been copied into Data Frame Data_df\n",
    "# In general, the 660 rows of data has no no null values and it is all integer data type.\n",
    "# After confirming this we start the Univariate analysis step."
   ]
  },
  {
   "cell_type": "markdown",
   "metadata": {},
   "source": [
    "## 1. Univariate Analysis\n",
    "       Perform univariate analysis on the data to better understand the variables at your disposal and to get an idea about the no of clusters. Perform EDA, create visualizations to explore data. (10 marks)"
   ]
  },
  {
   "cell_type": "code",
   "execution_count": 7,
   "metadata": {},
   "outputs": [],
   "source": [
    "Data_df_features = Data_df.drop(columns = {'Sl_No', 'Customer Key'})\n",
    "#Since the customer key and Sl_no information may be useful in using the results, we retain this data under Data_df\n",
    "# A new data frame is created in order to analyze the features in which Sl_No and Customer Key are not copied.\n",
    "# leaving the features in the data only. "
   ]
  },
  {
   "cell_type": "code",
   "execution_count": 8,
   "metadata": {},
   "outputs": [
    {
     "data": {
      "text/html": [
       "<div>\n",
       "<style scoped>\n",
       "    .dataframe tbody tr th:only-of-type {\n",
       "        vertical-align: middle;\n",
       "    }\n",
       "\n",
       "    .dataframe tbody tr th {\n",
       "        vertical-align: top;\n",
       "    }\n",
       "\n",
       "    .dataframe thead th {\n",
       "        text-align: right;\n",
       "    }\n",
       "</style>\n",
       "<table border=\"1\" class=\"dataframe\">\n",
       "  <thead>\n",
       "    <tr style=\"text-align: right;\">\n",
       "      <th></th>\n",
       "      <th>count</th>\n",
       "      <th>mean</th>\n",
       "      <th>std</th>\n",
       "      <th>min</th>\n",
       "      <th>25%</th>\n",
       "      <th>50%</th>\n",
       "      <th>75%</th>\n",
       "      <th>max</th>\n",
       "    </tr>\n",
       "  </thead>\n",
       "  <tbody>\n",
       "    <tr>\n",
       "      <th>Avg_Credit_Limit</th>\n",
       "      <td>660.0</td>\n",
       "      <td>34574.242424</td>\n",
       "      <td>37625.487804</td>\n",
       "      <td>3000.0</td>\n",
       "      <td>10000.0</td>\n",
       "      <td>18000.0</td>\n",
       "      <td>48000.0</td>\n",
       "      <td>200000.0</td>\n",
       "    </tr>\n",
       "    <tr>\n",
       "      <th>Total_Credit_Cards</th>\n",
       "      <td>660.0</td>\n",
       "      <td>4.706061</td>\n",
       "      <td>2.167835</td>\n",
       "      <td>1.0</td>\n",
       "      <td>3.0</td>\n",
       "      <td>5.0</td>\n",
       "      <td>6.0</td>\n",
       "      <td>10.0</td>\n",
       "    </tr>\n",
       "    <tr>\n",
       "      <th>Total_visits_bank</th>\n",
       "      <td>660.0</td>\n",
       "      <td>2.403030</td>\n",
       "      <td>1.631813</td>\n",
       "      <td>0.0</td>\n",
       "      <td>1.0</td>\n",
       "      <td>2.0</td>\n",
       "      <td>4.0</td>\n",
       "      <td>5.0</td>\n",
       "    </tr>\n",
       "    <tr>\n",
       "      <th>Total_visits_online</th>\n",
       "      <td>660.0</td>\n",
       "      <td>2.606061</td>\n",
       "      <td>2.935724</td>\n",
       "      <td>0.0</td>\n",
       "      <td>1.0</td>\n",
       "      <td>2.0</td>\n",
       "      <td>4.0</td>\n",
       "      <td>15.0</td>\n",
       "    </tr>\n",
       "    <tr>\n",
       "      <th>Total_calls_made</th>\n",
       "      <td>660.0</td>\n",
       "      <td>3.583333</td>\n",
       "      <td>2.865317</td>\n",
       "      <td>0.0</td>\n",
       "      <td>1.0</td>\n",
       "      <td>3.0</td>\n",
       "      <td>5.0</td>\n",
       "      <td>10.0</td>\n",
       "    </tr>\n",
       "  </tbody>\n",
       "</table>\n",
       "</div>"
      ],
      "text/plain": [
       "                     count          mean           std     min      25%  \\\n",
       "Avg_Credit_Limit     660.0  34574.242424  37625.487804  3000.0  10000.0   \n",
       "Total_Credit_Cards   660.0      4.706061      2.167835     1.0      3.0   \n",
       "Total_visits_bank    660.0      2.403030      1.631813     0.0      1.0   \n",
       "Total_visits_online  660.0      2.606061      2.935724     0.0      1.0   \n",
       "Total_calls_made     660.0      3.583333      2.865317     0.0      1.0   \n",
       "\n",
       "                         50%      75%       max  \n",
       "Avg_Credit_Limit     18000.0  48000.0  200000.0  \n",
       "Total_Credit_Cards       5.0      6.0      10.0  \n",
       "Total_visits_bank        2.0      4.0       5.0  \n",
       "Total_visits_online      2.0      4.0      15.0  \n",
       "Total_calls_made         3.0      5.0      10.0  "
      ]
     },
     "execution_count": 8,
     "metadata": {},
     "output_type": "execute_result"
    }
   ],
   "source": [
    "Data_df_features.describe().T\n",
    "#This function shows the variables at our disposal, min and max values as well as quartile cut-off values"
   ]
  },
  {
   "cell_type": "code",
   "execution_count": 9,
   "metadata": {},
   "outputs": [
    {
     "data": {
      "image/png": "[encoded data removed]",
      "text/plain": [
       "<Figure size 720x720 with 1 Axes>"
      ]
     },
     "metadata": {
      "needs_background": "light"
     },
     "output_type": "display_data"
    },
    {
     "name": "stdout",
     "output_type": "stream",
     "text": [
      "----------------------------------------------------\n"
     ]
    },
    {
     "data": {
      "image/png": "[encoded data removed]",
      "text/plain": [
       "<Figure size 720x720 with 1 Axes>"
      ]
     },
     "metadata": {
      "needs_background": "light"
     },
     "output_type": "display_data"
    },
    {
     "name": "stdout",
     "output_type": "stream",
     "text": [
      "----------------------------------------------------\n"
     ]
    },
    {
     "data": {
      "image/png": "[encoded data removed]",
      "text/plain": [
       "<Figure size 720x720 with 1 Axes>"
      ]
     },
     "metadata": {
      "needs_background": "light"
     },
     "output_type": "display_data"
    },
    {
     "name": "stdout",
     "output_type": "stream",
     "text": [
      "----------------------------------------------------\n"
     ]
    },
    {
     "data": {
      "image/png": "[encoded data removed]",
      "text/plain": [
       "<Figure size 720x720 with 1 Axes>"
      ]
     },
     "metadata": {
      "needs_background": "light"
     },
     "output_type": "display_data"
    },
    {
     "name": "stdout",
     "output_type": "stream",
     "text": [
      "----------------------------------------------------\n"
     ]
    },
    {
     "data": {
      "image/png": "[encoded data removed]",
      "text/plain": [
       "<Figure size 720x720 with 1 Axes>"
      ]
     },
     "metadata": {
      "needs_background": "light"
     },
     "output_type": "display_data"
    },
    {
     "name": "stdout",
     "output_type": "stream",
     "text": [
      "----------------------------------------------------\n"
     ]
    }
   ],
   "source": [
    "# The function creates a histogram of all independent variables. \n",
    "for feature in Data_df_features.columns: # Loop through all columns in the dataframe\n",
    "    plt.figure(figsize = (10,10))\n",
    "    sns.distplot(Data_df_features[feature])\n",
    "    plt.show()\n",
    "    print('----------------------------------------------------')\n",
    "    "
   ]
  },
  {
   "cell_type": "code",
   "execution_count": 10,
   "metadata": {},
   "outputs": [],
   "source": [
    "from sklearn.model_selection  import train_test_split\n",
    "from sklearn.cluster import KMeans\n",
    "\n",
    "from scipy.stats import zscore\n",
    "\n",
    "Data_scaled=Data_df_features.apply(zscore)"
   ]
  },
  {
   "cell_type": "code",
   "execution_count": 11,
   "metadata": {},
   "outputs": [
    {
     "data": {
      "text/plain": [
       "<seaborn.axisgrid.PairGrid at 0x2116d239cd0>"
      ]
     },
     "execution_count": 11,
     "metadata": {},
     "output_type": "execute_result"
    },
    {
     "data": {
      "image/png": "[encoded data removed]",
      "text/plain": [
       "<Figure size 900x900 with 30 Axes>"
      ]
     },
     "metadata": {
      "needs_background": "light"
     },
     "output_type": "display_data"
    }
   ],
   "source": [
    "import seaborn as sns\n",
    "sns.pairplot(Data_df_features, diag_kind='kde') "
   ]
  },
  {
   "cell_type": "markdown",
   "metadata": {},
   "source": [
    "## 2.\tInsight from the Graphs\n",
    "    Properly comment on the codes, provide explanations of the steps taken in the notebook and conclude your insights from the graphs. (5 marks)"
   ]
  },
  {
   "cell_type": "code",
   "execution_count": 12,
   "metadata": {},
   "outputs": [],
   "source": [
    "#Total Visits to Bank appears to be the most important feature that forms three distinct clusters. Customers\n",
    "# with high visits to bank have lower online visits. \n",
    "#Average Credit Limit appears to be an important feature. There is some correlation with Total Credit Cards; higher \n",
    "# the average credit limit, the individual has more credit cards, makes less visits to bank, higher online visits \n",
    "# makes less calls. We could potentially look for cluster of customers with higher, average and lower credit limit. \n",
    "# Total credit cards and Total visits online seem to form two distinct clusters with people with >5 online visits\n",
    "# and these customers tend to have more than 7 credit cards.  \n",
    "# Customers making more (5-10)phone calls appear to have lower average credit limit."
   ]
  },
  {
   "cell_type": "markdown",
   "metadata": {},
   "source": [
    "## 3.\tK-Means Clustering\n",
    "Execute K-means clustering use elbow plot and analyse clusters using boxplot (10 marks)"
   ]
  },
  {
   "cell_type": "code",
   "execution_count": 13,
   "metadata": {},
   "outputs": [
    {
     "data": {
      "text/plain": [
       "Text(0.5, 1.0, 'Selecting k with the Elbow Method')"
      ]
     },
     "execution_count": 13,
     "metadata": {},
     "output_type": "execute_result"
    },
    {
     "data": {
      "image/png": "[encoded data removed]",
      "text/plain": [
       "<Figure size 432x288 with 1 Axes>"
      ]
     },
     "metadata": {
      "needs_background": "light"
     },
     "output_type": "display_data"
    }
   ],
   "source": [
    "#Finding optimal no. of clusters\n",
    "from scipy.spatial.distance import cdist\n",
    "clusters=range(1,10)\n",
    "meanDistortions=[]\n",
    "\n",
    "for k in clusters:\n",
    "    model=KMeans(n_clusters=k)\n",
    "    model.fit(Data_scaled)\n",
    "    prediction=model.predict(Data_scaled)\n",
    "    meanDistortions.append(sum(np.min(cdist(Data_scaled, model.cluster_centers_, 'euclidean'), axis=1)) / Data_scaled.shape[0])\n",
    "\n",
    "\n",
    "plt.plot(clusters, meanDistortions, 'bx-')\n",
    "plt.xlabel('k')\n",
    "plt.ylabel('Average distortion')\n",
    "plt.title('Selecting k with the Elbow Method')"
   ]
  },
  {
   "cell_type": "code",
   "execution_count": 14,
   "metadata": {},
   "outputs": [],
   "source": [
    "# Let us first start with K = 2 where we see an elbow in the graph above\n",
    "first_model=KMeans(2)\n",
    "first_model.fit(Data_scaled)\n",
    "prediction=first_model.predict(Data_scaled)"
   ]
  },
  {
   "cell_type": "code",
   "execution_count": 15,
   "metadata": {},
   "outputs": [
    {
     "name": "stdout",
     "output_type": "stream",
     "text": [
      "Groups Assigned: \n",
      "\n"
     ]
    },
    {
     "data": {
      "text/html": [
       "<div>\n",
       "<style scoped>\n",
       "    .dataframe tbody tr th:only-of-type {\n",
       "        vertical-align: middle;\n",
       "    }\n",
       "\n",
       "    .dataframe tbody tr th {\n",
       "        vertical-align: top;\n",
       "    }\n",
       "\n",
       "    .dataframe thead th {\n",
       "        text-align: right;\n",
       "    }\n",
       "</style>\n",
       "<table border=\"1\" class=\"dataframe\">\n",
       "  <thead>\n",
       "    <tr style=\"text-align: right;\">\n",
       "      <th></th>\n",
       "      <th>Avg_Credit_Limit</th>\n",
       "      <th>Total_Credit_Cards</th>\n",
       "      <th>Total_visits_bank</th>\n",
       "      <th>Total_visits_online</th>\n",
       "      <th>Total_calls_made</th>\n",
       "      <th>Group</th>\n",
       "    </tr>\n",
       "  </thead>\n",
       "  <tbody>\n",
       "    <tr>\n",
       "      <th>0</th>\n",
       "      <td>100000</td>\n",
       "      <td>2</td>\n",
       "      <td>1</td>\n",
       "      <td>1</td>\n",
       "      <td>0</td>\n",
       "      <td>0</td>\n",
       "    </tr>\n",
       "    <tr>\n",
       "      <th>1</th>\n",
       "      <td>50000</td>\n",
       "      <td>3</td>\n",
       "      <td>0</td>\n",
       "      <td>10</td>\n",
       "      <td>9</td>\n",
       "      <td>1</td>\n",
       "    </tr>\n",
       "    <tr>\n",
       "      <th>2</th>\n",
       "      <td>50000</td>\n",
       "      <td>7</td>\n",
       "      <td>1</td>\n",
       "      <td>3</td>\n",
       "      <td>4</td>\n",
       "      <td>0</td>\n",
       "    </tr>\n",
       "    <tr>\n",
       "      <th>3</th>\n",
       "      <td>30000</td>\n",
       "      <td>5</td>\n",
       "      <td>1</td>\n",
       "      <td>1</td>\n",
       "      <td>4</td>\n",
       "      <td>0</td>\n",
       "    </tr>\n",
       "    <tr>\n",
       "      <th>4</th>\n",
       "      <td>100000</td>\n",
       "      <td>6</td>\n",
       "      <td>0</td>\n",
       "      <td>12</td>\n",
       "      <td>3</td>\n",
       "      <td>0</td>\n",
       "    </tr>\n",
       "    <tr>\n",
       "      <th>5</th>\n",
       "      <td>20000</td>\n",
       "      <td>3</td>\n",
       "      <td>0</td>\n",
       "      <td>1</td>\n",
       "      <td>8</td>\n",
       "      <td>1</td>\n",
       "    </tr>\n",
       "    <tr>\n",
       "      <th>6</th>\n",
       "      <td>100000</td>\n",
       "      <td>5</td>\n",
       "      <td>0</td>\n",
       "      <td>11</td>\n",
       "      <td>2</td>\n",
       "      <td>0</td>\n",
       "    </tr>\n",
       "    <tr>\n",
       "      <th>7</th>\n",
       "      <td>15000</td>\n",
       "      <td>3</td>\n",
       "      <td>0</td>\n",
       "      <td>1</td>\n",
       "      <td>1</td>\n",
       "      <td>1</td>\n",
       "    </tr>\n",
       "    <tr>\n",
       "      <th>8</th>\n",
       "      <td>5000</td>\n",
       "      <td>2</td>\n",
       "      <td>0</td>\n",
       "      <td>2</td>\n",
       "      <td>2</td>\n",
       "      <td>1</td>\n",
       "    </tr>\n",
       "    <tr>\n",
       "      <th>9</th>\n",
       "      <td>3000</td>\n",
       "      <td>4</td>\n",
       "      <td>0</td>\n",
       "      <td>1</td>\n",
       "      <td>7</td>\n",
       "      <td>1</td>\n",
       "    </tr>\n",
       "  </tbody>\n",
       "</table>\n",
       "</div>"
      ],
      "text/plain": [
       "   Avg_Credit_Limit  Total_Credit_Cards  Total_visits_bank  \\\n",
       "0            100000                   2                  1   \n",
       "1             50000                   3                  0   \n",
       "2             50000                   7                  1   \n",
       "3             30000                   5                  1   \n",
       "4            100000                   6                  0   \n",
       "5             20000                   3                  0   \n",
       "6            100000                   5                  0   \n",
       "7             15000                   3                  0   \n",
       "8              5000                   2                  0   \n",
       "9              3000                   4                  0   \n",
       "\n",
       "   Total_visits_online  Total_calls_made  Group  \n",
       "0                    1                 0      0  \n",
       "1                   10                 9      1  \n",
       "2                    3                 4      0  \n",
       "3                    1                 4      0  \n",
       "4                   12                 3      0  \n",
       "5                    1                 8      1  \n",
       "6                   11                 2      0  \n",
       "7                    1                 1      1  \n",
       "8                    2                 2      1  \n",
       "9                    1                 7      1  "
      ]
     },
     "execution_count": 15,
     "metadata": {},
     "output_type": "execute_result"
    }
   ],
   "source": [
    "#Append the prediction\n",
    "Data_df[\"Group\"] = prediction\n",
    "Data_df_features[\"Group\"] = prediction\n",
    "Data_scaled[\"Group\"] = prediction\n",
    "print(\"Groups Assigned: \\n\")\n",
    "Data_df_features.head(10)"
   ]
  },
  {
   "cell_type": "markdown",
   "metadata": {},
   "source": [
    "### Let us analyze the clusters using Box plot"
   ]
  },
  {
   "cell_type": "code",
   "execution_count": 16,
   "metadata": {},
   "outputs": [
    {
     "data": {
      "text/html": [
       "<div>\n",
       "<style scoped>\n",
       "    .dataframe tbody tr th:only-of-type {\n",
       "        vertical-align: middle;\n",
       "    }\n",
       "\n",
       "    .dataframe tbody tr th {\n",
       "        vertical-align: top;\n",
       "    }\n",
       "\n",
       "    .dataframe thead th {\n",
       "        text-align: right;\n",
       "    }\n",
       "</style>\n",
       "<table border=\"1\" class=\"dataframe\">\n",
       "  <thead>\n",
       "    <tr style=\"text-align: right;\">\n",
       "      <th></th>\n",
       "      <th>Avg_Credit_Limit</th>\n",
       "      <th>Total_Credit_Cards</th>\n",
       "      <th>Total_visits_bank</th>\n",
       "      <th>Total_visits_online</th>\n",
       "      <th>Total_calls_made</th>\n",
       "    </tr>\n",
       "    <tr>\n",
       "      <th>Group</th>\n",
       "      <th></th>\n",
       "      <th></th>\n",
       "      <th></th>\n",
       "      <th></th>\n",
       "      <th></th>\n",
       "    </tr>\n",
       "  </thead>\n",
       "  <tbody>\n",
       "    <tr>\n",
       "      <th>0</th>\n",
       "      <td>46082.568807</td>\n",
       "      <td>5.885321</td>\n",
       "      <td>3.158257</td>\n",
       "      <td>2.119266</td>\n",
       "      <td>1.894495</td>\n",
       "    </tr>\n",
       "    <tr>\n",
       "      <th>1</th>\n",
       "      <td>12174.107143</td>\n",
       "      <td>2.410714</td>\n",
       "      <td>0.933036</td>\n",
       "      <td>3.553571</td>\n",
       "      <td>6.870536</td>\n",
       "    </tr>\n",
       "  </tbody>\n",
       "</table>\n",
       "</div>"
      ],
      "text/plain": [
       "       Avg_Credit_Limit  Total_Credit_Cards  Total_visits_bank  \\\n",
       "Group                                                            \n",
       "0          46082.568807            5.885321           3.158257   \n",
       "1          12174.107143            2.410714           0.933036   \n",
       "\n",
       "       Total_visits_online  Total_calls_made  \n",
       "Group                                         \n",
       "0                 2.119266          1.894495  \n",
       "1                 3.553571          6.870536  "
      ]
     },
     "execution_count": 16,
     "metadata": {},
     "output_type": "execute_result"
    }
   ],
   "source": [
    "DataClust = Data_df_features.groupby(['Group'])\n",
    "DataClust.mean()"
   ]
  },
  {
   "cell_type": "code",
   "execution_count": 17,
   "metadata": {},
   "outputs": [
    {
     "data": {
      "text/plain": [
       "array([[<matplotlib.axes._subplots.AxesSubplot object at 0x000002116D917550>,\n",
       "        <matplotlib.axes._subplots.AxesSubplot object at 0x000002116D93DA30>,\n",
       "        <matplotlib.axes._subplots.AxesSubplot object at 0x000002116E510A00>],\n",
       "       [<matplotlib.axes._subplots.AxesSubplot object at 0x000002116E53F8B0>,\n",
       "        <matplotlib.axes._subplots.AxesSubplot object at 0x000002116E570760>,\n",
       "        <matplotlib.axes._subplots.AxesSubplot object at 0x000002116E5A0610>]],\n",
       "      dtype=object)"
      ]
     },
     "execution_count": 17,
     "metadata": {},
     "output_type": "execute_result"
    },
    {
     "data": {
      "image/png": "[encoded data removed]",
      "text/plain": [
       "<Figure size 1080x720 with 6 Axes>"
      ]
     },
     "metadata": {
      "needs_background": "light"
     },
     "output_type": "display_data"
    }
   ],
   "source": [
    "Data_scaled.boxplot(by='Group', layout = (2,3),figsize=(15,10))"
   ]
  },
  {
   "cell_type": "markdown",
   "metadata": {},
   "source": [
    "### Clusters do not appear to be well-defined\n",
    "Group 1 seems to be made of customers with higher credit limit, higher total cards and lower calls made as well as less no of visits to the bank. \n",
    "There seems to be some overlap in Total on-line visits between Group 1 and Group 0. \n",
    "This does not appear to be well defined clustering. \n",
    " \n",
    "### We will try with K=3 which is the next elbow in the curve shown above."
   ]
  },
  {
   "cell_type": "code",
   "execution_count": 18,
   "metadata": {},
   "outputs": [
    {
     "name": "stdout",
     "output_type": "stream",
     "text": [
      "Groups Assigned : \n",
      "\n"
     ]
    },
    {
     "data": {
      "text/html": [
       "<div>\n",
       "<style scoped>\n",
       "    .dataframe tbody tr th:only-of-type {\n",
       "        vertical-align: middle;\n",
       "    }\n",
       "\n",
       "    .dataframe tbody tr th {\n",
       "        vertical-align: top;\n",
       "    }\n",
       "\n",
       "    .dataframe thead th {\n",
       "        text-align: right;\n",
       "    }\n",
       "</style>\n",
       "<table border=\"1\" class=\"dataframe\">\n",
       "  <thead>\n",
       "    <tr style=\"text-align: right;\">\n",
       "      <th></th>\n",
       "      <th>Sl_No</th>\n",
       "      <th>Customer Key</th>\n",
       "      <th>Avg_Credit_Limit</th>\n",
       "      <th>Total_Credit_Cards</th>\n",
       "      <th>Total_visits_bank</th>\n",
       "      <th>Total_visits_online</th>\n",
       "      <th>Total_calls_made</th>\n",
       "      <th>Group</th>\n",
       "    </tr>\n",
       "  </thead>\n",
       "  <tbody>\n",
       "    <tr>\n",
       "      <th>0</th>\n",
       "      <td>1</td>\n",
       "      <td>87073</td>\n",
       "      <td>100000</td>\n",
       "      <td>2</td>\n",
       "      <td>1</td>\n",
       "      <td>1</td>\n",
       "      <td>0</td>\n",
       "      <td>0</td>\n",
       "    </tr>\n",
       "    <tr>\n",
       "      <th>1</th>\n",
       "      <td>2</td>\n",
       "      <td>38414</td>\n",
       "      <td>50000</td>\n",
       "      <td>3</td>\n",
       "      <td>0</td>\n",
       "      <td>10</td>\n",
       "      <td>9</td>\n",
       "      <td>1</td>\n",
       "    </tr>\n",
       "    <tr>\n",
       "      <th>2</th>\n",
       "      <td>3</td>\n",
       "      <td>17341</td>\n",
       "      <td>50000</td>\n",
       "      <td>7</td>\n",
       "      <td>1</td>\n",
       "      <td>3</td>\n",
       "      <td>4</td>\n",
       "      <td>0</td>\n",
       "    </tr>\n",
       "    <tr>\n",
       "      <th>3</th>\n",
       "      <td>4</td>\n",
       "      <td>40496</td>\n",
       "      <td>30000</td>\n",
       "      <td>5</td>\n",
       "      <td>1</td>\n",
       "      <td>1</td>\n",
       "      <td>4</td>\n",
       "      <td>0</td>\n",
       "    </tr>\n",
       "    <tr>\n",
       "      <th>4</th>\n",
       "      <td>5</td>\n",
       "      <td>47437</td>\n",
       "      <td>100000</td>\n",
       "      <td>6</td>\n",
       "      <td>0</td>\n",
       "      <td>12</td>\n",
       "      <td>3</td>\n",
       "      <td>2</td>\n",
       "    </tr>\n",
       "  </tbody>\n",
       "</table>\n",
       "</div>"
      ],
      "text/plain": [
       "   Sl_No  Customer Key  Avg_Credit_Limit  Total_Credit_Cards  \\\n",
       "0      1         87073            100000                   2   \n",
       "1      2         38414             50000                   3   \n",
       "2      3         17341             50000                   7   \n",
       "3      4         40496             30000                   5   \n",
       "4      5         47437            100000                   6   \n",
       "\n",
       "   Total_visits_bank  Total_visits_online  Total_calls_made  Group  \n",
       "0                  1                    1                 0      0  \n",
       "1                  0                   10                 9      1  \n",
       "2                  1                    3                 4      0  \n",
       "3                  1                    1                 4      0  \n",
       "4                  0                   12                 3      2  "
      ]
     },
     "execution_count": 18,
     "metadata": {},
     "output_type": "execute_result"
    }
   ],
   "source": [
    "# Let us try next with K = 3\n",
    "second_model=KMeans(3)\n",
    "second_model.fit(Data_scaled)\n",
    "prediction=second_model.predict(Data_scaled)\n",
    "\n",
    "#Append the prediction to the data frames\n",
    "Data_df[\"Group\"] = prediction\n",
    "Data_scaled[\"Group\"] = prediction\n",
    "Data_df_features[\"Group\"] = prediction\n",
    "print(\"Groups Assigned : \\n\")\n",
    "Data_df.head()"
   ]
  },
  {
   "cell_type": "code",
   "execution_count": 19,
   "metadata": {},
   "outputs": [
    {
     "data": {
      "text/html": [
       "<div>\n",
       "<style scoped>\n",
       "    .dataframe tbody tr th:only-of-type {\n",
       "        vertical-align: middle;\n",
       "    }\n",
       "\n",
       "    .dataframe tbody tr th {\n",
       "        vertical-align: top;\n",
       "    }\n",
       "\n",
       "    .dataframe thead th {\n",
       "        text-align: right;\n",
       "    }\n",
       "</style>\n",
       "<table border=\"1\" class=\"dataframe\">\n",
       "  <thead>\n",
       "    <tr style=\"text-align: right;\">\n",
       "      <th></th>\n",
       "      <th>Avg_Credit_Limit</th>\n",
       "      <th>Total_Credit_Cards</th>\n",
       "      <th>Total_visits_bank</th>\n",
       "      <th>Total_visits_online</th>\n",
       "      <th>Total_calls_made</th>\n",
       "    </tr>\n",
       "    <tr>\n",
       "      <th>Group</th>\n",
       "      <th></th>\n",
       "      <th></th>\n",
       "      <th></th>\n",
       "      <th></th>\n",
       "      <th></th>\n",
       "    </tr>\n",
       "  </thead>\n",
       "  <tbody>\n",
       "    <tr>\n",
       "      <th>0</th>\n",
       "      <td>33782.383420</td>\n",
       "      <td>5.515544</td>\n",
       "      <td>3.489637</td>\n",
       "      <td>0.981865</td>\n",
       "      <td>2.000000</td>\n",
       "    </tr>\n",
       "    <tr>\n",
       "      <th>1</th>\n",
       "      <td>12174.107143</td>\n",
       "      <td>2.410714</td>\n",
       "      <td>0.933036</td>\n",
       "      <td>3.553571</td>\n",
       "      <td>6.870536</td>\n",
       "    </tr>\n",
       "    <tr>\n",
       "      <th>2</th>\n",
       "      <td>141040.000000</td>\n",
       "      <td>8.740000</td>\n",
       "      <td>0.600000</td>\n",
       "      <td>10.900000</td>\n",
       "      <td>1.080000</td>\n",
       "    </tr>\n",
       "  </tbody>\n",
       "</table>\n",
       "</div>"
      ],
      "text/plain": [
       "       Avg_Credit_Limit  Total_Credit_Cards  Total_visits_bank  \\\n",
       "Group                                                            \n",
       "0          33782.383420            5.515544           3.489637   \n",
       "1          12174.107143            2.410714           0.933036   \n",
       "2         141040.000000            8.740000           0.600000   \n",
       "\n",
       "       Total_visits_online  Total_calls_made  \n",
       "Group                                         \n",
       "0                 0.981865          2.000000  \n",
       "1                 3.553571          6.870536  \n",
       "2                10.900000          1.080000  "
      ]
     },
     "execution_count": 19,
     "metadata": {},
     "output_type": "execute_result"
    }
   ],
   "source": [
    "DataClust = Data_df_features.groupby(['Group'])\n",
    "DataClust.mean()"
   ]
  },
  {
   "cell_type": "code",
   "execution_count": 20,
   "metadata": {},
   "outputs": [
    {
     "data": {
      "text/plain": [
       "array([[<matplotlib.axes._subplots.AxesSubplot object at 0x000002116E67F7F0>,\n",
       "        <matplotlib.axes._subplots.AxesSubplot object at 0x000002116EADB7C0>,\n",
       "        <matplotlib.axes._subplots.AxesSubplot object at 0x000002116ED5EBE0>],\n",
       "       [<matplotlib.axes._subplots.AxesSubplot object at 0x000002116ED8CF40>,\n",
       "        <matplotlib.axes._subplots.AxesSubplot object at 0x000002116EDC22E0>,\n",
       "        <matplotlib.axes._subplots.AxesSubplot object at 0x000002116EDEE640>]],\n",
       "      dtype=object)"
      ]
     },
     "execution_count": 20,
     "metadata": {},
     "output_type": "execute_result"
    },
    {
     "data": {
      "image/png": "[encoded data removed]",
      "text/plain": [
       "<Figure size 1080x720 with 6 Axes>"
      ]
     },
     "metadata": {
      "needs_background": "light"
     },
     "output_type": "display_data"
    }
   ],
   "source": [
    "Data_scaled.boxplot(by='Group', layout = (2,3),figsize=(15,10))"
   ]
  },
  {
   "cell_type": "markdown",
   "metadata": {},
   "source": [
    "## We appear to be getting more distinct clusters with K = 3\n",
    "* Group 2 appears to be made of high average credit limit, highest no. of credit cards, lower total calls and visits to the bank, and highest online visits to the bank.\n",
    "* Group 0 appears to be made of average credit limit being average of the total, average total credit cards, lower calls made, highest no. of visits to the bank and lowest no. of visits online. \n",
    "* Group 1 appears to be made of low average credit limit, lowest no. of credit cards, high total calls made to the bank, lower total visits to bank and average visits on-line.  "
   ]
  },
  {
   "cell_type": "markdown",
   "metadata": {},
   "source": [
    "## 4.\tHierarchical Clustering - \n",
    "    Execute hierarchical clustering (with different linkages) with the help of dendrogram and cophenetic coeff. Analyse clusters formed using boxplot (15 marks)"
   ]
  },
  {
   "cell_type": "code",
   "execution_count": 25,
   "metadata": {},
   "outputs": [
    {
     "data": {
      "text/html": [
       "<div>\n",
       "<style scoped>\n",
       "    .dataframe tbody tr th:only-of-type {\n",
       "        vertical-align: middle;\n",
       "    }\n",
       "\n",
       "    .dataframe tbody tr th {\n",
       "        vertical-align: top;\n",
       "    }\n",
       "\n",
       "    .dataframe thead th {\n",
       "        text-align: right;\n",
       "    }\n",
       "</style>\n",
       "<table border=\"1\" class=\"dataframe\">\n",
       "  <thead>\n",
       "    <tr style=\"text-align: right;\">\n",
       "      <th></th>\n",
       "      <th>Avg_Credit_Limit</th>\n",
       "      <th>Total_Credit_Cards</th>\n",
       "      <th>Total_visits_bank</th>\n",
       "      <th>Total_visits_online</th>\n",
       "      <th>Total_calls_made</th>\n",
       "    </tr>\n",
       "  </thead>\n",
       "  <tbody>\n",
       "    <tr>\n",
       "      <th>0</th>\n",
       "      <td>100000</td>\n",
       "      <td>2</td>\n",
       "      <td>1</td>\n",
       "      <td>1</td>\n",
       "      <td>0</td>\n",
       "    </tr>\n",
       "    <tr>\n",
       "      <th>1</th>\n",
       "      <td>50000</td>\n",
       "      <td>3</td>\n",
       "      <td>0</td>\n",
       "      <td>10</td>\n",
       "      <td>9</td>\n",
       "    </tr>\n",
       "    <tr>\n",
       "      <th>2</th>\n",
       "      <td>50000</td>\n",
       "      <td>7</td>\n",
       "      <td>1</td>\n",
       "      <td>3</td>\n",
       "      <td>4</td>\n",
       "    </tr>\n",
       "    <tr>\n",
       "      <th>3</th>\n",
       "      <td>30000</td>\n",
       "      <td>5</td>\n",
       "      <td>1</td>\n",
       "      <td>1</td>\n",
       "      <td>4</td>\n",
       "    </tr>\n",
       "    <tr>\n",
       "      <th>4</th>\n",
       "      <td>100000</td>\n",
       "      <td>6</td>\n",
       "      <td>0</td>\n",
       "      <td>12</td>\n",
       "      <td>3</td>\n",
       "    </tr>\n",
       "  </tbody>\n",
       "</table>\n",
       "</div>"
      ],
      "text/plain": [
       "   Avg_Credit_Limit  Total_Credit_Cards  Total_visits_bank  \\\n",
       "0            100000                   2                  1   \n",
       "1             50000                   3                  0   \n",
       "2             50000                   7                  1   \n",
       "3             30000                   5                  1   \n",
       "4            100000                   6                  0   \n",
       "\n",
       "   Total_visits_online  Total_calls_made  \n",
       "0                    1                 0  \n",
       "1                   10                 9  \n",
       "2                    3                 4  \n",
       "3                    1                 4  \n",
       "4                   12                 3  "
      ]
     },
     "execution_count": 25,
     "metadata": {},
     "output_type": "execute_result"
    }
   ],
   "source": [
    "Data_df_features.drop(['Group'], axis = 1, inplace = True)\n",
    "Data_df_features.head()"
   ]
  },
  {
   "cell_type": "code",
   "execution_count": 26,
   "metadata": {},
   "outputs": [],
   "source": [
    "from sklearn.preprocessing import StandardScaler\n",
    "import numpy as np\n",
    "sc = StandardScaler()\n",
    "X_std = pd.DataFrame(sc.fit_transform(Data_df_features),columns=Data_df_features.columns)"
   ]
  },
  {
   "cell_type": "code",
   "execution_count": 27,
   "metadata": {},
   "outputs": [
    {
     "data": {
      "text/html": [
       "<div>\n",
       "<style scoped>\n",
       "    .dataframe tbody tr th:only-of-type {\n",
       "        vertical-align: middle;\n",
       "    }\n",
       "\n",
       "    .dataframe tbody tr th {\n",
       "        vertical-align: top;\n",
       "    }\n",
       "\n",
       "    .dataframe thead th {\n",
       "        text-align: right;\n",
       "    }\n",
       "</style>\n",
       "<table border=\"1\" class=\"dataframe\">\n",
       "  <thead>\n",
       "    <tr style=\"text-align: right;\">\n",
       "      <th></th>\n",
       "      <th>Avg_Credit_Limit</th>\n",
       "      <th>Total_Credit_Cards</th>\n",
       "      <th>Total_visits_bank</th>\n",
       "      <th>Total_visits_online</th>\n",
       "      <th>Total_calls_made</th>\n",
       "    </tr>\n",
       "  </thead>\n",
       "  <tbody>\n",
       "    <tr>\n",
       "      <th>0</th>\n",
       "      <td>1.740187</td>\n",
       "      <td>-1.249225</td>\n",
       "      <td>-0.860451</td>\n",
       "      <td>-0.547490</td>\n",
       "      <td>-1.251537</td>\n",
       "    </tr>\n",
       "    <tr>\n",
       "      <th>1</th>\n",
       "      <td>0.410293</td>\n",
       "      <td>-0.787585</td>\n",
       "      <td>-1.473731</td>\n",
       "      <td>2.520519</td>\n",
       "      <td>1.891859</td>\n",
       "    </tr>\n",
       "    <tr>\n",
       "      <th>2</th>\n",
       "      <td>0.410293</td>\n",
       "      <td>1.058973</td>\n",
       "      <td>-0.860451</td>\n",
       "      <td>0.134290</td>\n",
       "      <td>0.145528</td>\n",
       "    </tr>\n",
       "    <tr>\n",
       "      <th>3</th>\n",
       "      <td>-0.121665</td>\n",
       "      <td>0.135694</td>\n",
       "      <td>-0.860451</td>\n",
       "      <td>-0.547490</td>\n",
       "      <td>0.145528</td>\n",
       "    </tr>\n",
       "    <tr>\n",
       "      <th>4</th>\n",
       "      <td>1.740187</td>\n",
       "      <td>0.597334</td>\n",
       "      <td>-1.473731</td>\n",
       "      <td>3.202298</td>\n",
       "      <td>-0.203739</td>\n",
       "    </tr>\n",
       "  </tbody>\n",
       "</table>\n",
       "</div>"
      ],
      "text/plain": [
       "   Avg_Credit_Limit  Total_Credit_Cards  Total_visits_bank  \\\n",
       "0          1.740187           -1.249225          -0.860451   \n",
       "1          0.410293           -0.787585          -1.473731   \n",
       "2          0.410293            1.058973          -0.860451   \n",
       "3         -0.121665            0.135694          -0.860451   \n",
       "4          1.740187            0.597334          -1.473731   \n",
       "\n",
       "   Total_visits_online  Total_calls_made  \n",
       "0            -0.547490         -1.251537  \n",
       "1             2.520519          1.891859  \n",
       "2             0.134290          0.145528  \n",
       "3            -0.547490          0.145528  \n",
       "4             3.202298         -0.203739  "
      ]
     },
     "execution_count": 27,
     "metadata": {},
     "output_type": "execute_result"
    }
   ],
   "source": [
    "X_std.head()"
   ]
  },
  {
   "cell_type": "markdown",
   "metadata": {},
   "source": [
    "### Using Ward Method calculate Linkage matrix"
   ]
  },
  {
   "cell_type": "code",
   "execution_count": 28,
   "metadata": {},
   "outputs": [],
   "source": [
    "# Use ward as linkage metric and distance as Eucledian to create a linkage matrix\n",
    "from scipy.cluster.hierarchy import dendrogram, linkage, cophenet\n",
    "\n",
    "Z = linkage(X_std, method='ward', metric='euclidean')"
   ]
  },
  {
   "cell_type": "code",
   "execution_count": 29,
   "metadata": {},
   "outputs": [
    {
     "data": {
      "text/plain": [
       "(659, 4)"
      ]
     },
     "execution_count": 29,
     "metadata": {},
     "output_type": "execute_result"
    }
   ],
   "source": [
    "Z.shape"
   ]
  },
  {
   "cell_type": "code",
   "execution_count": 30,
   "metadata": {},
   "outputs": [
    {
     "data": {
      "text/plain": [
       "array([[1280.        , 1283.        ,    5.10637213,   66.        ],\n",
       "       [1274.        , 1295.        ,    5.17949897,   73.        ],\n",
       "       [1284.        , 1287.        ,    5.27190289,   73.        ],\n",
       "       [1232.        , 1255.        ,    5.44337439,   14.        ],\n",
       "       [1248.        , 1296.        ,    5.56685248,   74.        ],\n",
       "       [1271.        , 1298.        ,    5.95297993,   36.        ],\n",
       "       [1289.        , 1299.        ,    6.05026859,  101.        ],\n",
       "       [1279.        , 1301.        ,    6.05138767,   97.        ],\n",
       "       [1258.        , 1300.        ,    6.14147408,   92.        ],\n",
       "       [1291.        , 1297.        ,    6.4228412 ,   74.        ],\n",
       "       [1285.        , 1306.        ,    6.49907205,  133.        ],\n",
       "       [1288.        , 1308.        ,    6.81290874,  117.        ],\n",
       "       [1302.        , 1304.        ,    7.79653157,   50.        ],\n",
       "       [1294.        , 1305.        ,    8.31976268,  157.        ],\n",
       "       [1290.        , 1312.        ,    8.5959205 ,  194.        ],\n",
       "       [1303.        , 1310.        ,    9.74163619,  191.        ],\n",
       "       [1307.        , 1309.        ,   12.00788467,  225.        ],\n",
       "       [1313.        , 1314.        ,   16.84480374,  385.        ],\n",
       "       [1311.        , 1316.        ,   47.06715339,  435.        ],\n",
       "       [1315.        , 1317.        ,   50.16298666,  660.        ]])"
      ]
     },
     "execution_count": 30,
     "metadata": {},
     "output_type": "execute_result"
    }
   ],
   "source": [
    "Z[639:]"
   ]
  },
  {
   "cell_type": "code",
   "execution_count": 31,
   "metadata": {},
   "outputs": [
    {
     "data": {
      "image/png": "[encoded data removed]",
      "text/plain": [
       "<Figure size 1800x720 with 1 Axes>"
      ]
     },
     "metadata": {
      "needs_background": "light"
     },
     "output_type": "display_data"
    }
   ],
   "source": [
    "#Plots Dendrogram for the consolidated Dataframe\n",
    "#\n",
    "plt.figure(figsize=(25, 10))\n",
    "dendrogram(Z)\n",
    "plt.show()"
   ]
  },
  {
   "cell_type": "code",
   "execution_count": 32,
   "metadata": {},
   "outputs": [
    {
     "data": {
      "image/png": "[encoded data removed]",
      "text/plain": [
       "<Figure size 432x288 with 1 Axes>"
      ]
     },
     "metadata": {
      "needs_background": "light"
     },
     "output_type": "display_data"
    }
   ],
   "source": [
    "# Hint: Use truncate_mode='lastp' attribute in dendrogram function to arrive at dendrogram\n",
    "dendrogram(\n",
    "    Z,\n",
    "    truncate_mode='lastp',  # show only the last p merged clusters\n",
    "    p=3,  # show only the last p merged clusters\n",
    ")\n",
    "plt.show()"
   ]
  },
  {
   "cell_type": "code",
   "execution_count": 33,
   "metadata": {},
   "outputs": [
    {
     "data": {
      "text/plain": [
       "0.7415156284827493"
      ]
     },
     "execution_count": 33,
     "metadata": {},
     "output_type": "execute_result"
    }
   ],
   "source": [
    "# The number of customers in each group are shown above 225, 50 and 385. This matches the K-Means algorithm results.\n",
    "#Calculate Cophenetic Coefficient\n",
    "from scipy.spatial.distance import pdist\n",
    "corr, coph_dist = cophenet(Z, pdist(X_std))\n",
    "corr"
   ]
  },
  {
   "cell_type": "markdown",
   "metadata": {},
   "source": [
    "### Try using Average method"
   ]
  },
  {
   "cell_type": "code",
   "execution_count": 34,
   "metadata": {},
   "outputs": [],
   "source": [
    "Z1 = linkage(X_std, method='average', metric='euclidean')"
   ]
  },
  {
   "cell_type": "code",
   "execution_count": 35,
   "metadata": {
    "scrolled": true
   },
   "outputs": [
    {
     "data": {
      "image/png": "[encoded data removed]",
      "text/plain": [
       "<Figure size 432x288 with 1 Axes>"
      ]
     },
     "metadata": {
      "needs_background": "light"
     },
     "output_type": "display_data"
    }
   ],
   "source": [
    "dendrogram(\n",
    "    Z1,\n",
    "    truncate_mode='lastp',  # show only the last p merged clusters\n",
    "    p=3,  # show only the last p merged clusters\n",
    ")\n",
    "plt.show()"
   ]
  },
  {
   "cell_type": "code",
   "execution_count": 36,
   "metadata": {},
   "outputs": [
    {
     "data": {
      "text/plain": [
       "0.8977080867389372"
      ]
     },
     "execution_count": 36,
     "metadata": {},
     "output_type": "execute_result"
    }
   ],
   "source": [
    "#Calculate Cophenetic Coefficient for Average method\n",
    "corr, coph_dist = cophenet(Z1, pdist(X_std))\n",
    "corr"
   ]
  },
  {
   "cell_type": "markdown",
   "metadata": {},
   "source": [
    "### Try Method 'complete' and compute Cophenetic Coefficient"
   ]
  },
  {
   "cell_type": "code",
   "execution_count": 37,
   "metadata": {},
   "outputs": [],
   "source": [
    "#Cophenetic Coefficient is much better therefore we move forward using Average Method\n",
    "# We try one more method complete\n",
    "Z2 = linkage(X_std, method='complete', metric='euclidean')"
   ]
  },
  {
   "cell_type": "code",
   "execution_count": 38,
   "metadata": {},
   "outputs": [
    {
     "data": {
      "image/png": "[encoded data removed]",
      "text/plain": [
       "<Figure size 432x288 with 1 Axes>"
      ]
     },
     "metadata": {
      "needs_background": "light"
     },
     "output_type": "display_data"
    }
   ],
   "source": [
    "dendrogram(\n",
    "    Z2,\n",
    "    truncate_mode='lastp',  # show only the last p merged clusters\n",
    "    p=3,  # show only the last p merged clusters\n",
    ")\n",
    "plt.show()"
   ]
  },
  {
   "cell_type": "code",
   "execution_count": 39,
   "metadata": {},
   "outputs": [
    {
     "data": {
      "text/plain": [
       "0.8599730607972423"
      ]
     },
     "execution_count": 39,
     "metadata": {},
     "output_type": "execute_result"
    }
   ],
   "source": [
    "#Calculate Cophenetic Coefficient for Average method\n",
    "corr, coph_dist = cophenet(Z2, pdist(X_std))\n",
    "corr"
   ]
  },
  {
   "cell_type": "markdown",
   "metadata": {},
   "source": [
    "### Method \"Average' gave us the best Cophenetic Coefficient so we use linkage matrix Z1 for the remaining work"
   ]
  },
  {
   "cell_type": "code",
   "execution_count": 41,
   "metadata": {},
   "outputs": [
    {
     "data": {
      "text/plain": [
       "array([[1.22800000e+03, 1.29600000e+03, 1.42115296e+00, 1.08000000e+02],\n",
       "       [1.28800000e+03, 1.29200000e+03, 1.42764430e+00, 1.02000000e+02],\n",
       "       [1.26500000e+03, 1.28900000e+03, 1.46027507e+00, 8.00000000e+00],\n",
       "       [1.28300000e+03, 1.29300000e+03, 1.48514030e+00, 7.00000000e+01],\n",
       "       [1.27600000e+03, 1.27800000e+03, 1.50823619e+00, 1.20000000e+01],\n",
       "       [1.29100000e+03, 1.29800000e+03, 1.55775899e+00, 2.00000000e+01],\n",
       "       [1.29500000e+03, 1.30000000e+03, 1.57762381e+00, 1.93000000e+02],\n",
       "       [1.29700000e+03, 1.30200000e+03, 1.61398386e+00, 1.93000000e+02],\n",
       "       [1.29400000e+03, 1.29900000e+03, 1.63321449e+00, 2.20000000e+02],\n",
       "       [1.26400000e+03, 1.28400000e+03, 1.65653632e+00, 8.00000000e+00],\n",
       "       [1.30500000e+03, 1.30600000e+03, 1.82879539e+00, 3.86000000e+02],\n",
       "       [1.30300000e+03, 1.30400000e+03, 2.03498289e+00, 3.20000000e+01],\n",
       "       [1.30100000e+03, 1.30800000e+03, 2.04982728e+00, 1.60000000e+01],\n",
       "       [1.16200000e+03, 1.30700000e+03, 2.29454005e+00, 2.22000000e+02],\n",
       "       [1.31000000e+03, 1.31100000e+03, 2.38705570e+00, 4.80000000e+01],\n",
       "       [1.13700000e+03, 1.31300000e+03, 2.50280165e+00, 5.00000000e+01],\n",
       "       [1.00000000e+00, 1.31200000e+03, 2.79420150e+00, 2.23000000e+02],\n",
       "       [0.00000000e+00, 1.30900000e+03, 3.11135778e+00, 3.87000000e+02],\n",
       "       [1.31500000e+03, 1.31600000e+03, 3.25253923e+00, 6.10000000e+02],\n",
       "       [1.31400000e+03, 1.31700000e+03, 5.45418035e+00, 6.60000000e+02]])"
      ]
     },
     "execution_count": 41,
     "metadata": {},
     "output_type": "execute_result"
    }
   ],
   "source": [
    "Z1[639:]"
   ]
  },
  {
   "cell_type": "code",
   "execution_count": 42,
   "metadata": {},
   "outputs": [
    {
     "data": {
      "image/png": "[encoded data removed]",
      "text/plain": [
       "<Figure size 1800x720 with 1 Axes>"
      ]
     },
     "metadata": {
      "needs_background": "light"
     },
     "output_type": "display_data"
    }
   ],
   "source": [
    "#Plots Dendrogram for the consolidated Dataframe\n",
    "#\n",
    "plt.figure(figsize=(25, 10))\n",
    "dendrogram(Z1)\n",
    "plt.show()"
   ]
  },
  {
   "cell_type": "code",
   "execution_count": 43,
   "metadata": {},
   "outputs": [
    {
     "name": "stdout",
     "output_type": "stream",
     "text": [
      "(660,)\n"
     ]
    },
    {
     "data": {
      "text/plain": [
       "array([3, 2, 3, 3, 1, 2, 1, 2, 2, 2, 2, 2, 2, 2, 2, 2, 2, 2, 2, 2, 2, 2,\n",
       "       2, 2, 2, 2, 2, 2, 2, 2, 2, 2, 2, 2, 2, 2, 2, 2, 2, 2, 2, 2, 2, 2,\n",
       "       2, 2, 2, 2, 2, 2, 2, 2, 2, 2, 2, 2, 2, 2, 2, 2, 2, 2, 2, 2, 2, 2,\n",
       "       2, 2, 2, 2, 2, 2, 2, 2, 2, 2, 2, 2, 2, 2, 2, 2, 2, 2, 2, 2, 2, 2,\n",
       "       2, 2, 2, 2, 2, 2, 2, 2, 2, 2, 2, 2, 2, 2, 2, 2, 2, 2, 2, 2, 2, 2,\n",
       "       2, 2, 2, 2, 2, 2, 2, 2, 2, 2, 2, 2, 2, 2, 2, 2, 2, 2, 2, 2, 2, 2,\n",
       "       2, 2, 2, 2, 2, 2, 2, 2, 2, 2, 2, 2, 2, 2, 2, 2, 2, 2, 2, 2, 2, 2,\n",
       "       2, 2, 2, 2, 2, 2, 2, 2, 2, 2, 2, 2, 2, 2, 2, 2, 2, 2, 2, 2, 2, 2,\n",
       "       2, 2, 2, 2, 2, 2, 2, 2, 2, 2, 2, 2, 2, 2, 2, 2, 2, 2, 2, 2, 2, 2,\n",
       "       2, 2, 2, 2, 2, 2, 2, 2, 2, 2, 2, 2, 2, 2, 2, 2, 2, 2, 2, 2, 2, 2,\n",
       "       2, 2, 2, 2, 2, 2, 2, 2, 3, 3, 3, 3, 3, 3, 3, 3, 3, 3, 3, 3, 3, 3,\n",
       "       3, 3, 3, 3, 3, 3, 3, 3, 3, 3, 3, 3, 3, 3, 3, 3, 3, 3, 3, 3, 3, 3,\n",
       "       3, 3, 3, 3, 3, 3, 3, 3, 3, 3, 3, 3, 3, 3, 3, 3, 3, 3, 3, 3, 3, 3,\n",
       "       3, 3, 3, 3, 3, 3, 3, 3, 3, 3, 3, 3, 3, 3, 3, 3, 3, 3, 3, 3, 3, 3,\n",
       "       3, 3, 3, 3, 3, 3, 3, 3, 3, 3, 3, 3, 3, 3, 3, 3, 3, 3, 3, 3, 3, 3,\n",
       "       3, 3, 3, 3, 3, 3, 3, 3, 3, 3, 3, 3, 3, 3, 3, 3, 3, 3, 3, 3, 3, 3,\n",
       "       3, 3, 3, 3, 3, 3, 3, 3, 3, 3, 3, 3, 3, 3, 3, 3, 3, 3, 3, 3, 3, 3,\n",
       "       3, 3, 3, 3, 3, 3, 3, 3, 3, 3, 3, 3, 3, 3, 3, 3, 3, 3, 3, 3, 3, 3,\n",
       "       3, 3, 3, 3, 3, 3, 3, 3, 3, 3, 3, 3, 3, 3, 3, 3, 3, 3, 3, 3, 3, 3,\n",
       "       3, 3, 3, 3, 3, 3, 3, 3, 3, 3, 3, 3, 3, 3, 3, 3, 3, 3, 3, 3, 3, 3,\n",
       "       3, 3, 3, 3, 3, 3, 3, 3, 3, 3, 3, 3, 3, 3, 3, 3, 3, 3, 3, 3, 3, 3,\n",
       "       3, 3, 3, 3, 3, 3, 3, 3, 3, 3, 3, 3, 3, 3, 3, 3, 3, 3, 3, 3, 3, 3,\n",
       "       3, 3, 3, 3, 3, 3, 3, 3, 3, 3, 3, 3, 3, 3, 3, 3, 3, 3, 3, 3, 3, 3,\n",
       "       3, 3, 3, 3, 3, 3, 3, 3, 3, 3, 3, 3, 3, 3, 3, 3, 3, 3, 3, 3, 3, 3,\n",
       "       3, 3, 3, 3, 3, 3, 3, 3, 3, 3, 3, 3, 3, 3, 3, 3, 3, 3, 3, 3, 3, 3,\n",
       "       3, 3, 3, 3, 3, 3, 3, 3, 3, 3, 3, 3, 3, 3, 3, 3, 3, 3, 3, 3, 3, 3,\n",
       "       3, 3, 3, 3, 3, 3, 3, 3, 3, 3, 3, 3, 3, 3, 3, 3, 3, 3, 3, 3, 3, 3,\n",
       "       3, 3, 3, 3, 3, 3, 3, 3, 3, 3, 3, 3, 3, 3, 3, 3, 3, 3, 1, 1, 1, 1,\n",
       "       1, 1, 1, 1, 1, 1, 1, 1, 1, 1, 1, 1, 1, 1, 1, 1, 1, 1, 1, 1, 1, 1,\n",
       "       1, 1, 1, 1, 1, 1, 1, 1, 1, 1, 1, 1, 1, 1, 1, 1, 1, 1, 1, 1, 1, 1],\n",
       "      dtype=int32)"
      ]
     },
     "execution_count": 43,
     "metadata": {},
     "output_type": "execute_result"
    }
   ],
   "source": [
    "max_d = 3.15\n",
    "from scipy.cluster.hierarchy import fcluster\n",
    "clusters = fcluster(Z1, max_d, criterion='distance')\n",
    "print(clusters.shape)\n",
    "clusters"
   ]
  },
  {
   "cell_type": "code",
   "execution_count": 45,
   "metadata": {},
   "outputs": [],
   "source": [
    "Data_df[\"labels\"] = clusters\n",
    "X_std[\"labels\"] = clusters\n",
    "Data_df_features[\"labels\"] = clusters"
   ]
  },
  {
   "cell_type": "code",
   "execution_count": 46,
   "metadata": {},
   "outputs": [],
   "source": [
    "Data_df_features[\"Group\"] = prediction"
   ]
  },
  {
   "cell_type": "code",
   "execution_count": 47,
   "metadata": {},
   "outputs": [
    {
     "data": {
      "text/plain": [
       "array([[<matplotlib.axes._subplots.AxesSubplot object at 0x000002117010BEE0>,\n",
       "        <matplotlib.axes._subplots.AxesSubplot object at 0x0000021170108B80>,\n",
       "        <matplotlib.axes._subplots.AxesSubplot object at 0x000002117011E220>],\n",
       "       [<matplotlib.axes._subplots.AxesSubplot object at 0x0000021170134A00>,\n",
       "        <matplotlib.axes._subplots.AxesSubplot object at 0x00000211701568B0>,\n",
       "        <matplotlib.axes._subplots.AxesSubplot object at 0x000002117017E760>]],\n",
       "      dtype=object)"
      ]
     },
     "execution_count": 47,
     "metadata": {},
     "output_type": "execute_result"
    },
    {
     "data": {
      "image/png": "[encoded data removed]",
      "text/plain": [
       "<Figure size 1080x720 with 6 Axes>"
      ]
     },
     "metadata": {
      "needs_background": "light"
     },
     "output_type": "display_data"
    }
   ],
   "source": [
    "# This code creates the boxplot of the labels created by Hierarchical Clustering\n",
    "X_std.boxplot(by='labels', layout = (2,3),figsize=(15,10))"
   ]
  },
  {
   "cell_type": "markdown",
   "metadata": {},
   "source": [
    "## 5.\tAverage Silhoutte Score\n",
    "    Calculate average silhouette score for both methods. (5 marks)"
   ]
  },
  {
   "cell_type": "code",
   "execution_count": 48,
   "metadata": {},
   "outputs": [],
   "source": [
    "from sklearn.metrics import silhouette_samples,silhouette_score"
   ]
  },
  {
   "cell_type": "code",
   "execution_count": 49,
   "metadata": {},
   "outputs": [],
   "source": [
    "centroids  = second_model.cluster_centers_"
   ]
  },
  {
   "cell_type": "code",
   "execution_count": 50,
   "metadata": {},
   "outputs": [],
   "source": [
    "Data_scaled2 = Data_scaled.drop(\"Group\", axis =1)\n",
    "# get silhouette\n",
    "silhouette_vals = silhouette_samples(Data_scaled2,prediction)\n",
    "    #silhouette_vals\n",
    "    #\n",
    "# Calculate Silhoutte Score\n",
    "# Silhoutte score between 0 and 1 is a good score with the score closer to 1 being better\n",
    "score = silhouette_score(Data_scaled2, second_model.labels_, metric='euclidean')"
   ]
  },
  {
   "cell_type": "code",
   "execution_count": 51,
   "metadata": {},
   "outputs": [
    {
     "name": "stdout",
     "output_type": "stream",
     "text": [
      "KMeans Model K=3, Silhouette Score: 0.515718\n"
     ]
    }
   ],
   "source": [
    "print('KMeans Model K=3, Silhouette Score: %.6f' % score)"
   ]
  },
  {
   "cell_type": "code",
   "execution_count": 54,
   "metadata": {},
   "outputs": [
    {
     "name": "stdout",
     "output_type": "stream",
     "text": [
      "Hierarchical Model, Silhouette Score: 0.515922\n"
     ]
    }
   ],
   "source": [
    "# Calculate Silhoutter Score for Hierarchical Model\n",
    "Data_scaled4 = X_std.drop(\"labels\", axis =1)\n",
    "# get silhouette\n",
    "silhouette_vals = silhouette_samples(Data_scaled4,clusters)\n",
    "    #silhouette_vals\n",
    "    #\n",
    "# Calculate Silhoutte Score\n",
    "#\n",
    "score2 = silhouette_score(Data_scaled4, clusters, metric='euclidean')\n",
    "print('Hierarchical Model, Silhouette Score: %.6f' % score2)"
   ]
  },
  {
   "cell_type": "markdown",
   "metadata": {},
   "source": [
    "## Hierarchical Model provides slightly higher Silhoutte score than KMeans Model"
   ]
  },
  {
   "cell_type": "markdown",
   "metadata": {},
   "source": [
    "## 6.\tComparison between K-Means clusters and Hierarchical Cluster\n",
    "Compare K-means clusters with Hierarchical clusters. (5 marks)"
   ]
  },
  {
   "cell_type": "code",
   "execution_count": 55,
   "metadata": {},
   "outputs": [
    {
     "data": {
      "text/html": [
       "<div>\n",
       "<style scoped>\n",
       "    .dataframe tbody tr th:only-of-type {\n",
       "        vertical-align: middle;\n",
       "    }\n",
       "\n",
       "    .dataframe tbody tr th {\n",
       "        vertical-align: top;\n",
       "    }\n",
       "\n",
       "    .dataframe thead th {\n",
       "        text-align: right;\n",
       "    }\n",
       "</style>\n",
       "<table border=\"1\" class=\"dataframe\">\n",
       "  <thead>\n",
       "    <tr style=\"text-align: right;\">\n",
       "      <th></th>\n",
       "      <th>Sl_No</th>\n",
       "      <th>Customer Key</th>\n",
       "      <th>Avg_Credit_Limit</th>\n",
       "      <th>Total_Credit_Cards</th>\n",
       "      <th>Total_visits_bank</th>\n",
       "      <th>Total_visits_online</th>\n",
       "      <th>Total_calls_made</th>\n",
       "      <th>Group</th>\n",
       "      <th>labels</th>\n",
       "    </tr>\n",
       "  </thead>\n",
       "  <tbody>\n",
       "    <tr>\n",
       "      <th>0</th>\n",
       "      <td>1</td>\n",
       "      <td>87073</td>\n",
       "      <td>100000</td>\n",
       "      <td>2</td>\n",
       "      <td>1</td>\n",
       "      <td>1</td>\n",
       "      <td>0</td>\n",
       "      <td>0</td>\n",
       "      <td>3</td>\n",
       "    </tr>\n",
       "    <tr>\n",
       "      <th>1</th>\n",
       "      <td>2</td>\n",
       "      <td>38414</td>\n",
       "      <td>50000</td>\n",
       "      <td>3</td>\n",
       "      <td>0</td>\n",
       "      <td>10</td>\n",
       "      <td>9</td>\n",
       "      <td>1</td>\n",
       "      <td>2</td>\n",
       "    </tr>\n",
       "    <tr>\n",
       "      <th>2</th>\n",
       "      <td>3</td>\n",
       "      <td>17341</td>\n",
       "      <td>50000</td>\n",
       "      <td>7</td>\n",
       "      <td>1</td>\n",
       "      <td>3</td>\n",
       "      <td>4</td>\n",
       "      <td>0</td>\n",
       "      <td>3</td>\n",
       "    </tr>\n",
       "    <tr>\n",
       "      <th>3</th>\n",
       "      <td>4</td>\n",
       "      <td>40496</td>\n",
       "      <td>30000</td>\n",
       "      <td>5</td>\n",
       "      <td>1</td>\n",
       "      <td>1</td>\n",
       "      <td>4</td>\n",
       "      <td>0</td>\n",
       "      <td>3</td>\n",
       "    </tr>\n",
       "    <tr>\n",
       "      <th>4</th>\n",
       "      <td>5</td>\n",
       "      <td>47437</td>\n",
       "      <td>100000</td>\n",
       "      <td>6</td>\n",
       "      <td>0</td>\n",
       "      <td>12</td>\n",
       "      <td>3</td>\n",
       "      <td>2</td>\n",
       "      <td>1</td>\n",
       "    </tr>\n",
       "    <tr>\n",
       "      <th>5</th>\n",
       "      <td>6</td>\n",
       "      <td>58634</td>\n",
       "      <td>20000</td>\n",
       "      <td>3</td>\n",
       "      <td>0</td>\n",
       "      <td>1</td>\n",
       "      <td>8</td>\n",
       "      <td>1</td>\n",
       "      <td>2</td>\n",
       "    </tr>\n",
       "    <tr>\n",
       "      <th>6</th>\n",
       "      <td>7</td>\n",
       "      <td>48370</td>\n",
       "      <td>100000</td>\n",
       "      <td>5</td>\n",
       "      <td>0</td>\n",
       "      <td>11</td>\n",
       "      <td>2</td>\n",
       "      <td>2</td>\n",
       "      <td>1</td>\n",
       "    </tr>\n",
       "    <tr>\n",
       "      <th>7</th>\n",
       "      <td>8</td>\n",
       "      <td>37376</td>\n",
       "      <td>15000</td>\n",
       "      <td>3</td>\n",
       "      <td>0</td>\n",
       "      <td>1</td>\n",
       "      <td>1</td>\n",
       "      <td>1</td>\n",
       "      <td>2</td>\n",
       "    </tr>\n",
       "    <tr>\n",
       "      <th>8</th>\n",
       "      <td>9</td>\n",
       "      <td>82490</td>\n",
       "      <td>5000</td>\n",
       "      <td>2</td>\n",
       "      <td>0</td>\n",
       "      <td>2</td>\n",
       "      <td>2</td>\n",
       "      <td>1</td>\n",
       "      <td>2</td>\n",
       "    </tr>\n",
       "    <tr>\n",
       "      <th>9</th>\n",
       "      <td>10</td>\n",
       "      <td>44770</td>\n",
       "      <td>3000</td>\n",
       "      <td>4</td>\n",
       "      <td>0</td>\n",
       "      <td>1</td>\n",
       "      <td>7</td>\n",
       "      <td>1</td>\n",
       "      <td>2</td>\n",
       "    </tr>\n",
       "    <tr>\n",
       "      <th>10</th>\n",
       "      <td>11</td>\n",
       "      <td>52741</td>\n",
       "      <td>10000</td>\n",
       "      <td>4</td>\n",
       "      <td>0</td>\n",
       "      <td>5</td>\n",
       "      <td>5</td>\n",
       "      <td>1</td>\n",
       "      <td>2</td>\n",
       "    </tr>\n",
       "    <tr>\n",
       "      <th>11</th>\n",
       "      <td>12</td>\n",
       "      <td>52326</td>\n",
       "      <td>13000</td>\n",
       "      <td>3</td>\n",
       "      <td>0</td>\n",
       "      <td>2</td>\n",
       "      <td>7</td>\n",
       "      <td>1</td>\n",
       "      <td>2</td>\n",
       "    </tr>\n",
       "    <tr>\n",
       "      <th>12</th>\n",
       "      <td>13</td>\n",
       "      <td>92503</td>\n",
       "      <td>11000</td>\n",
       "      <td>1</td>\n",
       "      <td>2</td>\n",
       "      <td>5</td>\n",
       "      <td>9</td>\n",
       "      <td>1</td>\n",
       "      <td>2</td>\n",
       "    </tr>\n",
       "    <tr>\n",
       "      <th>13</th>\n",
       "      <td>14</td>\n",
       "      <td>25084</td>\n",
       "      <td>9000</td>\n",
       "      <td>1</td>\n",
       "      <td>1</td>\n",
       "      <td>5</td>\n",
       "      <td>6</td>\n",
       "      <td>1</td>\n",
       "      <td>2</td>\n",
       "    </tr>\n",
       "    <tr>\n",
       "      <th>14</th>\n",
       "      <td>15</td>\n",
       "      <td>68517</td>\n",
       "      <td>6000</td>\n",
       "      <td>2</td>\n",
       "      <td>2</td>\n",
       "      <td>4</td>\n",
       "      <td>6</td>\n",
       "      <td>1</td>\n",
       "      <td>2</td>\n",
       "    </tr>\n",
       "    <tr>\n",
       "      <th>15</th>\n",
       "      <td>16</td>\n",
       "      <td>55196</td>\n",
       "      <td>8000</td>\n",
       "      <td>2</td>\n",
       "      <td>0</td>\n",
       "      <td>5</td>\n",
       "      <td>7</td>\n",
       "      <td>1</td>\n",
       "      <td>2</td>\n",
       "    </tr>\n",
       "    <tr>\n",
       "      <th>16</th>\n",
       "      <td>17</td>\n",
       "      <td>62617</td>\n",
       "      <td>15000</td>\n",
       "      <td>2</td>\n",
       "      <td>1</td>\n",
       "      <td>2</td>\n",
       "      <td>4</td>\n",
       "      <td>1</td>\n",
       "      <td>2</td>\n",
       "    </tr>\n",
       "    <tr>\n",
       "      <th>17</th>\n",
       "      <td>18</td>\n",
       "      <td>96463</td>\n",
       "      <td>8000</td>\n",
       "      <td>2</td>\n",
       "      <td>0</td>\n",
       "      <td>3</td>\n",
       "      <td>4</td>\n",
       "      <td>1</td>\n",
       "      <td>2</td>\n",
       "    </tr>\n",
       "    <tr>\n",
       "      <th>18</th>\n",
       "      <td>19</td>\n",
       "      <td>39137</td>\n",
       "      <td>11000</td>\n",
       "      <td>2</td>\n",
       "      <td>2</td>\n",
       "      <td>2</td>\n",
       "      <td>7</td>\n",
       "      <td>1</td>\n",
       "      <td>2</td>\n",
       "    </tr>\n",
       "    <tr>\n",
       "      <th>19</th>\n",
       "      <td>20</td>\n",
       "      <td>14309</td>\n",
       "      <td>19000</td>\n",
       "      <td>4</td>\n",
       "      <td>1</td>\n",
       "      <td>5</td>\n",
       "      <td>8</td>\n",
       "      <td>1</td>\n",
       "      <td>2</td>\n",
       "    </tr>\n",
       "  </tbody>\n",
       "</table>\n",
       "</div>"
      ],
      "text/plain": [
       "    Sl_No  Customer Key  Avg_Credit_Limit  Total_Credit_Cards  \\\n",
       "0       1         87073            100000                   2   \n",
       "1       2         38414             50000                   3   \n",
       "2       3         17341             50000                   7   \n",
       "3       4         40496             30000                   5   \n",
       "4       5         47437            100000                   6   \n",
       "5       6         58634             20000                   3   \n",
       "6       7         48370            100000                   5   \n",
       "7       8         37376             15000                   3   \n",
       "8       9         82490              5000                   2   \n",
       "9      10         44770              3000                   4   \n",
       "10     11         52741             10000                   4   \n",
       "11     12         52326             13000                   3   \n",
       "12     13         92503             11000                   1   \n",
       "13     14         25084              9000                   1   \n",
       "14     15         68517              6000                   2   \n",
       "15     16         55196              8000                   2   \n",
       "16     17         62617             15000                   2   \n",
       "17     18         96463              8000                   2   \n",
       "18     19         39137             11000                   2   \n",
       "19     20         14309             19000                   4   \n",
       "\n",
       "    Total_visits_bank  Total_visits_online  Total_calls_made  Group  labels  \n",
       "0                   1                    1                 0      0       3  \n",
       "1                   0                   10                 9      1       2  \n",
       "2                   1                    3                 4      0       3  \n",
       "3                   1                    1                 4      0       3  \n",
       "4                   0                   12                 3      2       1  \n",
       "5                   0                    1                 8      1       2  \n",
       "6                   0                   11                 2      2       1  \n",
       "7                   0                    1                 1      1       2  \n",
       "8                   0                    2                 2      1       2  \n",
       "9                   0                    1                 7      1       2  \n",
       "10                  0                    5                 5      1       2  \n",
       "11                  0                    2                 7      1       2  \n",
       "12                  2                    5                 9      1       2  \n",
       "13                  1                    5                 6      1       2  \n",
       "14                  2                    4                 6      1       2  \n",
       "15                  0                    5                 7      1       2  \n",
       "16                  1                    2                 4      1       2  \n",
       "17                  0                    3                 4      1       2  \n",
       "18                  2                    2                 7      1       2  \n",
       "19                  1                    5                 8      1       2  "
      ]
     },
     "execution_count": 55,
     "metadata": {},
     "output_type": "execute_result"
    }
   ],
   "source": [
    "Data_df.head(20)"
   ]
  },
  {
   "cell_type": "code",
   "execution_count": 57,
   "metadata": {},
   "outputs": [
    {
     "name": "stdout",
     "output_type": "stream",
     "text": [
      "Group 0 matches with label 3: 386\n",
      "Group 1 matches with label 2:  223\n",
      "Group 2 matches with label 1: 50 \n",
      "\n",
      "No match between Group 0 and label 3: 0\n",
      "Percentage of total = 0.0000%\n",
      "No match between Group 1 and label 2: 1\n",
      "Percentage of total = 0.1515%\n",
      "No match between Group 2 and label 1: 0\n",
      "Percentage of total = 0.0000%\n"
     ]
    }
   ],
   "source": [
    "#There appears to be a good equivalence between KMeans Group and Hierarchical Clustering labels\n",
    "# Group 0 ~ label 3\n",
    "# Group 1 ~ label 2\n",
    "# Group 2 ~ label 1\n",
    "i=0\n",
    "match_g0_l3 = 0\n",
    "No_match_g0_l3 = 0\n",
    "match_g1_l2 = 0\n",
    "No_match_g1_l2 = 0\n",
    "match_g2_l1 = 0\n",
    "No_match_g2_l1 = 0\n",
    "\n",
    "# We run a loop for loop through Dataframe Data_df which has Group and labels definition \n",
    "# A comparison is made of the equivalent clusters in order to draw conclusions.\n",
    "#\n",
    "for i in range(len(Data_df)):\n",
    "    if Data_df['Group'][i]==0 and Data_df['labels'][i]==3:\n",
    "        match_g0_l3 = match_g0_l3 +1\n",
    "    else:\n",
    "        if Data_df['Group'][i]==1 and Data_df['labels'][i]==2:\n",
    "            match_g1_l2 = match_g1_l2 +1\n",
    "        else:  \n",
    "            if Data_df['Group'][i]==2 and Data_df['labels'][i]==1:\n",
    "                match_g2_l1 = match_g2_l1 +1\n",
    "    if Data_df['Group'][i]==0 and Data_df['labels'][i]!=3:\n",
    "        No_match_g0_l3 = No_match_g0_l3+1\n",
    "    if Data_df['Group'][i]==1 and Data_df['labels'][i]!=2:\n",
    "        No_match_g1_l2 = No_match_g1_l2+1\n",
    "    if ((Data_df['Group'][i]==2)&(Data_df['labels'][i]!=1)):\n",
    "        No_match_g2_l1 = No_match_g2_l1+1\n",
    "    i=i+1\n",
    "print( 'Group 0 matches with label 3:', match_g0_l3)  \n",
    "print('Group 1 matches with label 2: ', match_g1_l2 )\n",
    "print('Group 2 matches with label 1:', match_g2_l1, '\\n')\n",
    "print('No match between Group 0 and label 3:', No_match_g0_l3)\n",
    "print(\"Percentage of total = \"+\"{0:.4f}%\".format(No_match_g0_l3/6.6)) \n",
    "print('No match between Group 1 and label 2:', No_match_g1_l2)\n",
    "print(\"Percentage of total = \"+\"{0:.4f}%\".format(No_match_g1_l2/6.6)) \n",
    "print('No match between Group 2 and label 1:', No_match_g2_l1)\n",
    "print(\"Percentage of total = \"+\"{0:.4f}%\".format(No_match_g2_l1/6.6)) "
   ]
  },
  {
   "cell_type": "markdown",
   "metadata": {},
   "source": [
    "### When KMeans Clusters and Hierarchical Clusters are compared there is equivalence in 659 out of 660 records.\n",
    "### There is only record which is assigned Group 1 by KMeans but does not get assigned equivalent label 2 by Hierarchical Clustering program."
   ]
  },
  {
   "cell_type": "code",
   "execution_count": 58,
   "metadata": {},
   "outputs": [],
   "source": [
    "writer = pd.ExcelWriter('output.xlsx')\n",
    "# write dataframe to excel to study the data independently\n",
    "Data_df.to_excel(writer)\n",
    "# save to excel\n",
    "writer.save()"
   ]
  },
  {
   "cell_type": "markdown",
   "metadata": {},
   "source": [
    "## 7.\tAnalysis of the clusters formed\n",
    "    Tell us how is one cluster different from another and answer all the key questions. (10 marks)"
   ]
  },
  {
   "cell_type": "code",
   "execution_count": 59,
   "metadata": {},
   "outputs": [
    {
     "data": {
      "text/html": [
       "<div>\n",
       "<style scoped>\n",
       "    .dataframe tbody tr th:only-of-type {\n",
       "        vertical-align: middle;\n",
       "    }\n",
       "\n",
       "    .dataframe tbody tr th {\n",
       "        vertical-align: top;\n",
       "    }\n",
       "\n",
       "    .dataframe thead th {\n",
       "        text-align: right;\n",
       "    }\n",
       "</style>\n",
       "<table border=\"1\" class=\"dataframe\">\n",
       "  <thead>\n",
       "    <tr style=\"text-align: right;\">\n",
       "      <th></th>\n",
       "      <th>Sl_No</th>\n",
       "      <th>Customer Key</th>\n",
       "      <th>Avg_Credit_Limit</th>\n",
       "      <th>Total_Credit_Cards</th>\n",
       "      <th>Total_visits_bank</th>\n",
       "      <th>Total_visits_online</th>\n",
       "      <th>Total_calls_made</th>\n",
       "      <th>Group</th>\n",
       "    </tr>\n",
       "    <tr>\n",
       "      <th>labels</th>\n",
       "      <th></th>\n",
       "      <th></th>\n",
       "      <th></th>\n",
       "      <th></th>\n",
       "      <th></th>\n",
       "      <th></th>\n",
       "      <th></th>\n",
       "      <th></th>\n",
       "    </tr>\n",
       "  </thead>\n",
       "  <tbody>\n",
       "    <tr>\n",
       "      <th>1</th>\n",
       "      <td>611.280000</td>\n",
       "      <td>56708.760000</td>\n",
       "      <td>141040.000000</td>\n",
       "      <td>8.740000</td>\n",
       "      <td>0.600000</td>\n",
       "      <td>10.900000</td>\n",
       "      <td>1.080000</td>\n",
       "      <td>2.000000</td>\n",
       "    </tr>\n",
       "    <tr>\n",
       "      <th>2</th>\n",
       "      <td>116.977578</td>\n",
       "      <td>55163.973094</td>\n",
       "      <td>12197.309417</td>\n",
       "      <td>2.403587</td>\n",
       "      <td>0.928251</td>\n",
       "      <td>3.560538</td>\n",
       "      <td>6.883408</td>\n",
       "      <td>1.000000</td>\n",
       "    </tr>\n",
       "    <tr>\n",
       "      <th>3</th>\n",
       "      <td>417.260982</td>\n",
       "      <td>54925.966408</td>\n",
       "      <td>33713.178295</td>\n",
       "      <td>5.511628</td>\n",
       "      <td>3.485788</td>\n",
       "      <td>0.984496</td>\n",
       "      <td>2.005168</td>\n",
       "      <td>0.002584</td>\n",
       "    </tr>\n",
       "  </tbody>\n",
       "</table>\n",
       "</div>"
      ],
      "text/plain": [
       "             Sl_No  Customer Key  Avg_Credit_Limit  Total_Credit_Cards  \\\n",
       "labels                                                                   \n",
       "1       611.280000  56708.760000     141040.000000            8.740000   \n",
       "2       116.977578  55163.973094      12197.309417            2.403587   \n",
       "3       417.260982  54925.966408      33713.178295            5.511628   \n",
       "\n",
       "        Total_visits_bank  Total_visits_online  Total_calls_made     Group  \n",
       "labels                                                                      \n",
       "1                0.600000            10.900000          1.080000  2.000000  \n",
       "2                0.928251             3.560538          6.883408  1.000000  \n",
       "3                3.485788             0.984496          2.005168  0.002584  "
      ]
     },
     "execution_count": 59,
     "metadata": {},
     "output_type": "execute_result"
    }
   ],
   "source": [
    "HierDataClust = Data_df.groupby(['labels'])\n",
    "HierDataClust.mean()"
   ]
  },
  {
   "cell_type": "code",
   "execution_count": 60,
   "metadata": {},
   "outputs": [
    {
     "data": {
      "text/html": [
       "<div>\n",
       "<style scoped>\n",
       "    .dataframe tbody tr th:only-of-type {\n",
       "        vertical-align: middle;\n",
       "    }\n",
       "\n",
       "    .dataframe tbody tr th {\n",
       "        vertical-align: top;\n",
       "    }\n",
       "\n",
       "    .dataframe thead th {\n",
       "        text-align: right;\n",
       "    }\n",
       "</style>\n",
       "<table border=\"1\" class=\"dataframe\">\n",
       "  <thead>\n",
       "    <tr style=\"text-align: right;\">\n",
       "      <th></th>\n",
       "      <th>Group</th>\n",
       "      <th>0</th>\n",
       "      <th>1</th>\n",
       "      <th>2</th>\n",
       "    </tr>\n",
       "  </thead>\n",
       "  <tbody>\n",
       "    <tr>\n",
       "      <th rowspan=\"8\" valign=\"top\">Avg_Credit_Limit</th>\n",
       "      <th>count</th>\n",
       "      <td>386.000000</td>\n",
       "      <td>224.000000</td>\n",
       "      <td>50.000000</td>\n",
       "    </tr>\n",
       "    <tr>\n",
       "      <th>mean</th>\n",
       "      <td>33782.383420</td>\n",
       "      <td>12174.107143</td>\n",
       "      <td>141040.000000</td>\n",
       "    </tr>\n",
       "    <tr>\n",
       "      <th>std</th>\n",
       "      <td>22169.460696</td>\n",
       "      <td>5249.048524</td>\n",
       "      <td>34457.877272</td>\n",
       "    </tr>\n",
       "    <tr>\n",
       "      <th>min</th>\n",
       "      <td>5000.000000</td>\n",
       "      <td>3000.000000</td>\n",
       "      <td>84000.000000</td>\n",
       "    </tr>\n",
       "    <tr>\n",
       "      <th>25%</th>\n",
       "      <td>13000.000000</td>\n",
       "      <td>8000.000000</td>\n",
       "      <td>108750.000000</td>\n",
       "    </tr>\n",
       "    <tr>\n",
       "      <th>50%</th>\n",
       "      <td>31000.000000</td>\n",
       "      <td>12000.000000</td>\n",
       "      <td>145500.000000</td>\n",
       "    </tr>\n",
       "    <tr>\n",
       "      <th>75%</th>\n",
       "      <td>52000.000000</td>\n",
       "      <td>16000.000000</td>\n",
       "      <td>170000.000000</td>\n",
       "    </tr>\n",
       "    <tr>\n",
       "      <th>max</th>\n",
       "      <td>100000.000000</td>\n",
       "      <td>50000.000000</td>\n",
       "      <td>200000.000000</td>\n",
       "    </tr>\n",
       "    <tr>\n",
       "      <th rowspan=\"8\" valign=\"top\">Total_Credit_Cards</th>\n",
       "      <th>count</th>\n",
       "      <td>386.000000</td>\n",
       "      <td>224.000000</td>\n",
       "      <td>50.000000</td>\n",
       "    </tr>\n",
       "    <tr>\n",
       "      <th>mean</th>\n",
       "      <td>5.515544</td>\n",
       "      <td>2.410714</td>\n",
       "      <td>8.740000</td>\n",
       "    </tr>\n",
       "    <tr>\n",
       "      <th>std</th>\n",
       "      <td>1.140069</td>\n",
       "      <td>1.100783</td>\n",
       "      <td>1.274715</td>\n",
       "    </tr>\n",
       "    <tr>\n",
       "      <th>min</th>\n",
       "      <td>2.000000</td>\n",
       "      <td>1.000000</td>\n",
       "      <td>5.000000</td>\n",
       "    </tr>\n",
       "    <tr>\n",
       "      <th>25%</th>\n",
       "      <td>4.000000</td>\n",
       "      <td>1.000000</td>\n",
       "      <td>8.000000</td>\n",
       "    </tr>\n",
       "    <tr>\n",
       "      <th>50%</th>\n",
       "      <td>6.000000</td>\n",
       "      <td>2.000000</td>\n",
       "      <td>9.000000</td>\n",
       "    </tr>\n",
       "    <tr>\n",
       "      <th>75%</th>\n",
       "      <td>6.000000</td>\n",
       "      <td>3.000000</td>\n",
       "      <td>10.000000</td>\n",
       "    </tr>\n",
       "    <tr>\n",
       "      <th>max</th>\n",
       "      <td>7.000000</td>\n",
       "      <td>4.000000</td>\n",
       "      <td>10.000000</td>\n",
       "    </tr>\n",
       "    <tr>\n",
       "      <th rowspan=\"8\" valign=\"top\">Total_visits_bank</th>\n",
       "      <th>count</th>\n",
       "      <td>386.000000</td>\n",
       "      <td>224.000000</td>\n",
       "      <td>50.000000</td>\n",
       "    </tr>\n",
       "    <tr>\n",
       "      <th>mean</th>\n",
       "      <td>3.489637</td>\n",
       "      <td>0.933036</td>\n",
       "      <td>0.600000</td>\n",
       "    </tr>\n",
       "    <tr>\n",
       "      <th>std</th>\n",
       "      <td>1.135563</td>\n",
       "      <td>0.803567</td>\n",
       "      <td>0.494872</td>\n",
       "    </tr>\n",
       "    <tr>\n",
       "      <th>min</th>\n",
       "      <td>1.000000</td>\n",
       "      <td>0.000000</td>\n",
       "      <td>0.000000</td>\n",
       "    </tr>\n",
       "    <tr>\n",
       "      <th>25%</th>\n",
       "      <td>3.000000</td>\n",
       "      <td>0.000000</td>\n",
       "      <td>0.000000</td>\n",
       "    </tr>\n",
       "    <tr>\n",
       "      <th>50%</th>\n",
       "      <td>3.000000</td>\n",
       "      <td>1.000000</td>\n",
       "      <td>1.000000</td>\n",
       "    </tr>\n",
       "    <tr>\n",
       "      <th>75%</th>\n",
       "      <td>5.000000</td>\n",
       "      <td>2.000000</td>\n",
       "      <td>1.000000</td>\n",
       "    </tr>\n",
       "    <tr>\n",
       "      <th>max</th>\n",
       "      <td>5.000000</td>\n",
       "      <td>2.000000</td>\n",
       "      <td>1.000000</td>\n",
       "    </tr>\n",
       "    <tr>\n",
       "      <th rowspan=\"8\" valign=\"top\">Total_visits_online</th>\n",
       "      <th>count</th>\n",
       "      <td>386.000000</td>\n",
       "      <td>224.000000</td>\n",
       "      <td>50.000000</td>\n",
       "    </tr>\n",
       "    <tr>\n",
       "      <th>mean</th>\n",
       "      <td>0.981865</td>\n",
       "      <td>3.553571</td>\n",
       "      <td>10.900000</td>\n",
       "    </tr>\n",
       "    <tr>\n",
       "      <th>std</th>\n",
       "      <td>0.857167</td>\n",
       "      <td>1.218978</td>\n",
       "      <td>2.880264</td>\n",
       "    </tr>\n",
       "    <tr>\n",
       "      <th>min</th>\n",
       "      <td>0.000000</td>\n",
       "      <td>1.000000</td>\n",
       "      <td>6.000000</td>\n",
       "    </tr>\n",
       "    <tr>\n",
       "      <th>25%</th>\n",
       "      <td>0.000000</td>\n",
       "      <td>2.000000</td>\n",
       "      <td>8.000000</td>\n",
       "    </tr>\n",
       "    <tr>\n",
       "      <th>50%</th>\n",
       "      <td>1.000000</td>\n",
       "      <td>4.000000</td>\n",
       "      <td>11.000000</td>\n",
       "    </tr>\n",
       "    <tr>\n",
       "      <th>75%</th>\n",
       "      <td>2.000000</td>\n",
       "      <td>4.000000</td>\n",
       "      <td>13.000000</td>\n",
       "    </tr>\n",
       "    <tr>\n",
       "      <th>max</th>\n",
       "      <td>3.000000</td>\n",
       "      <td>10.000000</td>\n",
       "      <td>15.000000</td>\n",
       "    </tr>\n",
       "    <tr>\n",
       "      <th rowspan=\"8\" valign=\"top\">Total_calls_made</th>\n",
       "      <th>count</th>\n",
       "      <td>386.000000</td>\n",
       "      <td>224.000000</td>\n",
       "      <td>50.000000</td>\n",
       "    </tr>\n",
       "    <tr>\n",
       "      <th>mean</th>\n",
       "      <td>2.000000</td>\n",
       "      <td>6.870536</td>\n",
       "      <td>1.080000</td>\n",
       "    </tr>\n",
       "    <tr>\n",
       "      <th>std</th>\n",
       "      <td>1.430648</td>\n",
       "      <td>1.990161</td>\n",
       "      <td>0.876915</td>\n",
       "    </tr>\n",
       "    <tr>\n",
       "      <th>min</th>\n",
       "      <td>0.000000</td>\n",
       "      <td>1.000000</td>\n",
       "      <td>0.000000</td>\n",
       "    </tr>\n",
       "    <tr>\n",
       "      <th>25%</th>\n",
       "      <td>1.000000</td>\n",
       "      <td>5.000000</td>\n",
       "      <td>0.000000</td>\n",
       "    </tr>\n",
       "    <tr>\n",
       "      <th>50%</th>\n",
       "      <td>2.000000</td>\n",
       "      <td>7.000000</td>\n",
       "      <td>1.000000</td>\n",
       "    </tr>\n",
       "    <tr>\n",
       "      <th>75%</th>\n",
       "      <td>3.000000</td>\n",
       "      <td>9.000000</td>\n",
       "      <td>2.000000</td>\n",
       "    </tr>\n",
       "    <tr>\n",
       "      <th>max</th>\n",
       "      <td>4.000000</td>\n",
       "      <td>10.000000</td>\n",
       "      <td>3.000000</td>\n",
       "    </tr>\n",
       "    <tr>\n",
       "      <th rowspan=\"8\" valign=\"top\">labels</th>\n",
       "      <th>count</th>\n",
       "      <td>386.000000</td>\n",
       "      <td>224.000000</td>\n",
       "      <td>50.000000</td>\n",
       "    </tr>\n",
       "    <tr>\n",
       "      <th>mean</th>\n",
       "      <td>3.000000</td>\n",
       "      <td>2.004464</td>\n",
       "      <td>1.000000</td>\n",
       "    </tr>\n",
       "    <tr>\n",
       "      <th>std</th>\n",
       "      <td>0.000000</td>\n",
       "      <td>0.066815</td>\n",
       "      <td>0.000000</td>\n",
       "    </tr>\n",
       "    <tr>\n",
       "      <th>min</th>\n",
       "      <td>3.000000</td>\n",
       "      <td>2.000000</td>\n",
       "      <td>1.000000</td>\n",
       "    </tr>\n",
       "    <tr>\n",
       "      <th>25%</th>\n",
       "      <td>3.000000</td>\n",
       "      <td>2.000000</td>\n",
       "      <td>1.000000</td>\n",
       "    </tr>\n",
       "    <tr>\n",
       "      <th>50%</th>\n",
       "      <td>3.000000</td>\n",
       "      <td>2.000000</td>\n",
       "      <td>1.000000</td>\n",
       "    </tr>\n",
       "    <tr>\n",
       "      <th>75%</th>\n",
       "      <td>3.000000</td>\n",
       "      <td>2.000000</td>\n",
       "      <td>1.000000</td>\n",
       "    </tr>\n",
       "    <tr>\n",
       "      <th>max</th>\n",
       "      <td>3.000000</td>\n",
       "      <td>3.000000</td>\n",
       "      <td>1.000000</td>\n",
       "    </tr>\n",
       "  </tbody>\n",
       "</table>\n",
       "</div>"
      ],
      "text/plain": [
       "Group                                  0             1              2\n",
       "Avg_Credit_Limit    count     386.000000    224.000000      50.000000\n",
       "                    mean    33782.383420  12174.107143  141040.000000\n",
       "                    std     22169.460696   5249.048524   34457.877272\n",
       "                    min      5000.000000   3000.000000   84000.000000\n",
       "                    25%     13000.000000   8000.000000  108750.000000\n",
       "                    50%     31000.000000  12000.000000  145500.000000\n",
       "                    75%     52000.000000  16000.000000  170000.000000\n",
       "                    max    100000.000000  50000.000000  200000.000000\n",
       "Total_Credit_Cards  count     386.000000    224.000000      50.000000\n",
       "                    mean        5.515544      2.410714       8.740000\n",
       "                    std         1.140069      1.100783       1.274715\n",
       "                    min         2.000000      1.000000       5.000000\n",
       "                    25%         4.000000      1.000000       8.000000\n",
       "                    50%         6.000000      2.000000       9.000000\n",
       "                    75%         6.000000      3.000000      10.000000\n",
       "                    max         7.000000      4.000000      10.000000\n",
       "Total_visits_bank   count     386.000000    224.000000      50.000000\n",
       "                    mean        3.489637      0.933036       0.600000\n",
       "                    std         1.135563      0.803567       0.494872\n",
       "                    min         1.000000      0.000000       0.000000\n",
       "                    25%         3.000000      0.000000       0.000000\n",
       "                    50%         3.000000      1.000000       1.000000\n",
       "                    75%         5.000000      2.000000       1.000000\n",
       "                    max         5.000000      2.000000       1.000000\n",
       "Total_visits_online count     386.000000    224.000000      50.000000\n",
       "                    mean        0.981865      3.553571      10.900000\n",
       "                    std         0.857167      1.218978       2.880264\n",
       "                    min         0.000000      1.000000       6.000000\n",
       "                    25%         0.000000      2.000000       8.000000\n",
       "                    50%         1.000000      4.000000      11.000000\n",
       "                    75%         2.000000      4.000000      13.000000\n",
       "                    max         3.000000     10.000000      15.000000\n",
       "Total_calls_made    count     386.000000    224.000000      50.000000\n",
       "                    mean        2.000000      6.870536       1.080000\n",
       "                    std         1.430648      1.990161       0.876915\n",
       "                    min         0.000000      1.000000       0.000000\n",
       "                    25%         1.000000      5.000000       0.000000\n",
       "                    50%         2.000000      7.000000       1.000000\n",
       "                    75%         3.000000      9.000000       2.000000\n",
       "                    max         4.000000     10.000000       3.000000\n",
       "labels              count     386.000000    224.000000      50.000000\n",
       "                    mean        3.000000      2.004464       1.000000\n",
       "                    std         0.000000      0.066815       0.000000\n",
       "                    min         3.000000      2.000000       1.000000\n",
       "                    25%         3.000000      2.000000       1.000000\n",
       "                    50%         3.000000      2.000000       1.000000\n",
       "                    75%         3.000000      2.000000       1.000000\n",
       "                    max         3.000000      3.000000       1.000000"
      ]
     },
     "execution_count": 60,
     "metadata": {},
     "output_type": "execute_result"
    }
   ],
   "source": [
    "DataClust.describe().T"
   ]
  },
  {
   "cell_type": "markdown",
   "metadata": {},
   "source": [
    "\n",
    "### Group 0 and Lable 3: 386 Customers\n",
    "This is the largest cluster of customers. This cluster is made of middle range of average credit limit (range 5k-100k, mean = 33.8k), medium number of credit cards (range 2-7, mean=5.5) and high visits to bank (1-5, mean = 3.5).\n",
    "This cluster has the lowest total online visits (range 0-3, mean = 0.98) and low calls made (range 0-4, mean = 2). The appropriate method to catch these customers is by person to person contact in the bank during their visit. \n",
    "\n",
    "### Group 1 and Label 2: 223 Customers\n",
    "This is the second largest cluster of customers. This cluster is made of the lowest range of average credit limit (3k-50k, mean = 12k), lowest number of credit cards (1-4, mean 2.4) and highest phone calls (1-10, mean 6.87).\n",
    "This cluster has medium on-line visits (1-10, mean 3.55) and the lowest visits to bank (0-2, mean 0.93) The appropriate method to catch attention of these customers would be when they make a phone call. \n",
    "\n",
    "### Group 2 and Label 1 : 50 Customers \n",
    "This is the smallest cluster and it is made of the highest average credit limit (range 84k-200k, mean =141k), high number of total credit cards(5-10, mean of 8.74), and high on-line visits (6-15 visits, mean of 10.9). \n",
    "This cluster has lower total bank visits (0-1 with mean of 0.6) and total calls (0-3 with mean of 1.08). The appropriate method to catch their attention would be through Online advertising. \n",
    "\n",
    "### There is customer SI No 314 who is Group 1 but Hierarchical Clustering has assigned this customer to Label 3, instead of equivalent Label 2"
   ]
  },
  {
   "cell_type": "markdown",
   "metadata": {},
   "source": [
    "## Answers to key questions-\n",
    "\n",
    "### 1.\tHow many different segments of customers are there?\n",
    "\n",
    "There are three (3) segments of customers. \n",
    "\n",
    "### 2.\tHow are these segments different from each other?\n",
    "\n",
    "As described in the paragraph above the three segments are characterized by features- \n",
    "\n",
    "The first cluster (Label 1 or Group 2) with highest average credit limit and number of credit cards seems to be using on-line method to contact bank. \n",
    "\n",
    "The next cluster (Label 3 or Group 0) with medium credit limit is the largest and would be the appropriate cluster to increase penetration. \n",
    "\n",
    "The third cluster (Label 2 or Group 1) is the lowest credit limit group and they don't have many credit cards. \n",
    " \n",
    "### 3.\tWhat are your recommendations to the bank on how to better market to and service these customers?\n",
    "Label 1 or Group 2 - It would be important to improve the on-line support services to please these customers. \n",
    "\n",
    "Label 2 or Group 1 - This group could be marketed for signing up for credit cards via phone calls. This group prefers making phone calls. \n",
    "\n",
    "Label 3 or Group 0 - This cluster makes maximum visits to the bank and that would be the most appropriate area to support these customers."
   ]
  },
  {
   "cell_type": "code",
   "execution_count": null,
   "metadata": {},
   "outputs": [],
   "source": []
  }
 ],
 "metadata": {
  "kernelspec": {
   "display_name": "Python 3",
   "language": "python",
   "name": "python3"
  },
  "language_info": {
   "codemirror_mode": {
    "name": "ipython",
    "version": 3
   },
   "file_extension": ".py",
   "mimetype": "text/x-python",
   "name": "python",
   "nbconvert_exporter": "python",
   "pygments_lexer": "ipython3",
   "version": "3.8.3"
  }
 },
 "nbformat": 4,
 "nbformat_minor": 4
}
