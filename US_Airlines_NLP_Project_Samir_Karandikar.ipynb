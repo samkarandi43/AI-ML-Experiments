{
  "nbformat": 4,
  "nbformat_minor": 0,
  "metadata": {
    "kernelspec": {
      "display_name": "Python 3",
      "language": "python",
      "name": "python3"
    },
    "language_info": {
      "codemirror_mode": {
        "name": "ipython",
        "version": 3
      },
      "file_extension": ".py",
      "mimetype": "text/x-python",
      "name": "python",
      "nbconvert_exporter": "python",
      "pygments_lexer": "ipython3",
      "version": "3.8.3"
    },
    "colab": {
      "name": "US Airlines NLP Project Samir Karandikar.ipynb",
      "provenance": [],
      "collapsed_sections": []
    },
    "accelerator": "GPU"
  },
  "cells": [
    {
      "cell_type": "markdown",
      "metadata": {
        "id": "cn_ee5mxIjhK"
      },
      "source": [
        "## Project Description: Twitter US Airline Sentiment \n",
        "### Data Description: \n",
        "A sentiment analysis job about the problems of each major U.S. airline. Twitter data was scraped from \n",
        "February of 2015 and contributors were asked to first classify positive, negative, and neutral tweets, followed \n",
        "by categorizing negative reasons (such as \"late flight\" or \"rude service\"). \n",
        "\n"
      ]
    },
    {
      "cell_type": "markdown",
      "metadata": {
        "id": "NW91GY2eIjhP"
      },
      "source": [
        "### 1.  Import the libraries, load dataset, print shape of data, data description. (5 Marks)"
      ]
    },
    {
      "cell_type": "code",
      "metadata": {
        "colab": {
          "base_uri": "https://localhost:8080/"
        },
        "id": "M5LLJbr1IjhQ",
        "outputId": "8b220db6-1862-4b40-f7ce-af7468067978"
      },
      "source": [
        "# Import the libraries\n",
        "import re, string, unicodedata\n",
        "import numpy as np                                  #for large and multi-dimensional arrays\n",
        "import pandas as pd                                 #for data manipulation and analysis\n",
        "import nltk                                         #Natural language processing tool-kit\n",
        "!pip install contractions\n",
        "import contractions                                 #Import contractions library\n",
        "\n",
        "nltk.download('stopwords')\n",
        "nltk.download('punkt')\n",
        "nltk.download('wordnet')\n",
        "\n",
        "#import sys  \n",
        "#!{sys.executable} -m pip install contractions\n",
        "\n",
        "from nltk.corpus import stopwords                   #Stopwords corpus\n",
        "from nltk.stem import PorterStemmer                 # Stemmer\n",
        "from nltk.tokenize import word_tokenize \n",
        "\n",
        "\n",
        "from sklearn.feature_extraction.text import CountVectorizer          #For Bag of words\n",
        "from sklearn.feature_extraction.text import TfidfVectorizer          #For TF-IDF\n",
        "\n",
        "!pip install vaderSentiment"
      ],
      "execution_count": null,
      "outputs": [
        {
          "output_type": "stream",
          "text": [
            "Collecting contractions\n",
            "  Downloading https://files.pythonhosted.org/packages/0a/04/d5e0bb9f2cef5d15616ebf68087a725c5dbdd71bd422bcfb35d709f98ce7/contractions-0.0.48-py2.py3-none-any.whl\n",
            "Collecting textsearch>=0.0.21\n",
            "  Downloading https://files.pythonhosted.org/packages/d3/fe/021d7d76961b5ceb9f8d022c4138461d83beff36c3938dc424586085e559/textsearch-0.0.21-py2.py3-none-any.whl\n",
            "Collecting anyascii\n",
            "\u001b[?25l  Downloading https://files.pythonhosted.org/packages/09/c7/61370d9e3c349478e89a5554c1e5d9658e1e3116cc4f2528f568909ebdf1/anyascii-0.1.7-py3-none-any.whl (260kB)\n",
            "\u001b[K     |████████████████████████████████| 266kB 10.7MB/s \n",
            "\u001b[?25hCollecting pyahocorasick\n",
            "\u001b[?25l  Downloading https://files.pythonhosted.org/packages/7f/c2/eae730037ae1cbbfaa229d27030d1d5e34a1e41114b21447d1202ae9c220/pyahocorasick-1.4.2.tar.gz (321kB)\n",
            "\u001b[K     |████████████████████████████████| 327kB 16.2MB/s \n",
            "\u001b[?25hBuilding wheels for collected packages: pyahocorasick\n",
            "  Building wheel for pyahocorasick (setup.py) ... \u001b[?25l\u001b[?25hdone\n",
            "  Created wheel for pyahocorasick: filename=pyahocorasick-1.4.2-cp37-cp37m-linux_x86_64.whl size=85397 sha256=fe016f7cda3a9addff22126f3e104afbf3bb5ef7e869793e8bdaa2d51c3719a6\n",
            "  Stored in directory: /root/.cache/pip/wheels/3a/03/34/77e3ece0bba8b86bfac88a79f923b36d805cad63caeba38842\n",
            "Successfully built pyahocorasick\n",
            "Installing collected packages: anyascii, pyahocorasick, textsearch, contractions\n",
            "Successfully installed anyascii-0.1.7 contractions-0.0.48 pyahocorasick-1.4.2 textsearch-0.0.21\n",
            "[nltk_data] Downloading package stopwords to /root/nltk_data...\n",
            "[nltk_data]   Unzipping corpora/stopwords.zip.\n",
            "[nltk_data] Downloading package punkt to /root/nltk_data...\n",
            "[nltk_data]   Unzipping tokenizers/punkt.zip.\n",
            "[nltk_data] Downloading package wordnet to /root/nltk_data...\n",
            "[nltk_data]   Unzipping corpora/wordnet.zip.\n",
            "Collecting vaderSentiment\n",
            "\u001b[?25l  Downloading https://files.pythonhosted.org/packages/76/fc/310e16254683c1ed35eeb97386986d6c00bc29df17ce280aed64d55537e9/vaderSentiment-3.3.2-py2.py3-none-any.whl (125kB)\n",
            "\u001b[K     |████████████████████████████████| 133kB 9.9MB/s \n",
            "\u001b[?25hRequirement already satisfied: requests in /usr/local/lib/python3.7/dist-packages (from vaderSentiment) (2.23.0)\n",
            "Requirement already satisfied: certifi>=2017.4.17 in /usr/local/lib/python3.7/dist-packages (from requests->vaderSentiment) (2020.12.5)\n",
            "Requirement already satisfied: urllib3!=1.25.0,!=1.25.1,<1.26,>=1.21.1 in /usr/local/lib/python3.7/dist-packages (from requests->vaderSentiment) (1.24.3)\n",
            "Requirement already satisfied: idna<3,>=2.5 in /usr/local/lib/python3.7/dist-packages (from requests->vaderSentiment) (2.10)\n",
            "Requirement already satisfied: chardet<4,>=3.0.2 in /usr/local/lib/python3.7/dist-packages (from requests->vaderSentiment) (3.0.4)\n",
            "Installing collected packages: vaderSentiment\n",
            "Successfully installed vaderSentiment-3.3.2\n"
          ],
          "name": "stdout"
        }
      ]
    },
    {
      "cell_type": "code",
      "metadata": {
        "colab": {
          "base_uri": "https://localhost:8080/"
        },
        "id": "MqESC8IYI4px",
        "outputId": "5ab4ccb2-4184-410f-d643-30445f8eb110"
      },
      "source": [
        "from google.colab import drive\n",
        "drive.mount('/content/drive')"
      ],
      "execution_count": null,
      "outputs": [
        {
          "output_type": "stream",
          "text": [
            "Mounted at /content/drive\n"
          ],
          "name": "stdout"
        }
      ]
    },
    {
      "cell_type": "code",
      "metadata": {
        "id": "NT_Gu-vlIjhR"
      },
      "source": [
        "# Load dataset.\n",
        "dataset = pd.read_csv('/content/drive/My Drive/Colab Notebooks/NLP Project/Tweets.csv')"
      ],
      "execution_count": null,
      "outputs": []
    },
    {
      "cell_type": "code",
      "metadata": {
        "colab": {
          "base_uri": "https://localhost:8080/"
        },
        "id": "7pNFbpZ5IjhR",
        "outputId": "87b252d7-676f-4065-c8f2-766470bcba16"
      },
      "source": [
        "#Provides the shape of the data set\n",
        "dataset.shape"
      ],
      "execution_count": null,
      "outputs": [
        {
          "output_type": "execute_result",
          "data": {
            "text/plain": [
              "(14640, 15)"
            ]
          },
          "metadata": {
            "tags": []
          },
          "execution_count": 4
        }
      ]
    },
    {
      "cell_type": "code",
      "metadata": {
        "colab": {
          "base_uri": "https://localhost:8080/"
        },
        "id": "3SfVbeirIjhS",
        "outputId": "e4e829f3-918f-4c37-e199-fee262bfad9f"
      },
      "source": [
        "# Provides the description of the dataset\n",
        "dataset.info()"
      ],
      "execution_count": null,
      "outputs": [
        {
          "output_type": "stream",
          "text": [
            "<class 'pandas.core.frame.DataFrame'>\n",
            "RangeIndex: 14640 entries, 0 to 14639\n",
            "Data columns (total 15 columns):\n",
            " #   Column                        Non-Null Count  Dtype  \n",
            "---  ------                        --------------  -----  \n",
            " 0   tweet_id                      14640 non-null  int64  \n",
            " 1   airline_sentiment             14640 non-null  object \n",
            " 2   airline_sentiment_confidence  14640 non-null  float64\n",
            " 3   negativereason                9178 non-null   object \n",
            " 4   negativereason_confidence     10522 non-null  float64\n",
            " 5   airline                       14640 non-null  object \n",
            " 6   airline_sentiment_gold        40 non-null     object \n",
            " 7   name                          14640 non-null  object \n",
            " 8   negativereason_gold           32 non-null     object \n",
            " 9   retweet_count                 14640 non-null  int64  \n",
            " 10  text                          14640 non-null  object \n",
            " 11  tweet_coord                   1019 non-null   object \n",
            " 12  tweet_created                 14640 non-null  object \n",
            " 13  tweet_location                9907 non-null   object \n",
            " 14  user_timezone                 9820 non-null   object \n",
            "dtypes: float64(2), int64(2), object(11)\n",
            "memory usage: 1.7+ MB\n"
          ],
          "name": "stdout"
        }
      ]
    },
    {
      "cell_type": "code",
      "metadata": {
        "colab": {
          "base_uri": "https://localhost:8080/"
        },
        "id": "0D1A2yWuKDGR",
        "outputId": "36f33844-f51c-45e8-cb0b-165edd319918"
      },
      "source": [
        "dataset.isna().sum()"
      ],
      "execution_count": null,
      "outputs": [
        {
          "output_type": "execute_result",
          "data": {
            "text/plain": [
              "tweet_id                            0\n",
              "airline_sentiment                   0\n",
              "airline_sentiment_confidence        0\n",
              "negativereason                   5462\n",
              "negativereason_confidence        4118\n",
              "airline                             0\n",
              "airline_sentiment_gold          14600\n",
              "name                                0\n",
              "negativereason_gold             14608\n",
              "retweet_count                       0\n",
              "text                                0\n",
              "tweet_coord                     13621\n",
              "tweet_created                       0\n",
              "tweet_location                   4733\n",
              "user_timezone                    4820\n",
              "dtype: int64"
            ]
          },
          "metadata": {
            "tags": []
          },
          "execution_count": 6
        }
      ]
    },
    {
      "cell_type": "markdown",
      "metadata": {
        "id": "NdK-nuBoIjhS"
      },
      "source": [
        "### 2.  Understand of data-columns: (5 Marks) \n",
        "    a.  Drop all other columns except “text” and “airline_sentiment”. \n",
        "\n",
        "    b.  Check the shape of data. \n",
        "\n",
        "    c.  Print first 5 rows of data. "
      ]
    },
    {
      "cell_type": "code",
      "metadata": {
        "id": "dpayRu2_IjhS"
      },
      "source": [
        "# a. Drop the unwanted columns except \"text\" and \"airline_sentiment\"\n",
        "#    Note that there are no NA values in these two columns as shown in isna().sum() code above\n",
        "\n",
        "data = dataset.drop(['tweet_id','airline_sentiment_confidence','negativereason', 'negativereason_confidence', 'airline','name',\n",
        "                     'negativereason_gold', 'retweet_count', 'tweet_coord', 'tweet_created', 'tweet_location', 'user_timezone',\n",
        "                    'airline_sentiment_gold'], axis = 1)"
      ],
      "execution_count": null,
      "outputs": []
    },
    {
      "cell_type": "code",
      "metadata": {
        "colab": {
          "base_uri": "https://localhost:8080/"
        },
        "id": "Ew7RphDOIjhT",
        "outputId": "6a8a9891-f20c-4730-dca3-fcf5954c34ec"
      },
      "source": [
        "# b. check the shape of data\n",
        "data.shape"
      ],
      "execution_count": null,
      "outputs": [
        {
          "output_type": "execute_result",
          "data": {
            "text/plain": [
              "(14640, 2)"
            ]
          },
          "metadata": {
            "tags": []
          },
          "execution_count": 8
        }
      ]
    },
    {
      "cell_type": "code",
      "metadata": {
        "colab": {
          "base_uri": "https://localhost:8080/",
          "height": 195
        },
        "id": "GtS701TcIjhT",
        "outputId": "b682c2e3-0adb-45ac-ef61-a297d184ede9"
      },
      "source": [
        "#c. print first 5 rows of data\n",
        "data.head()"
      ],
      "execution_count": null,
      "outputs": [
        {
          "output_type": "execute_result",
          "data": {
            "text/html": [
              "<div>\n",
              "<style scoped>\n",
              "    .dataframe tbody tr th:only-of-type {\n",
              "        vertical-align: middle;\n",
              "    }\n",
              "\n",
              "    .dataframe tbody tr th {\n",
              "        vertical-align: top;\n",
              "    }\n",
              "\n",
              "    .dataframe thead th {\n",
              "        text-align: right;\n",
              "    }\n",
              "</style>\n",
              "<table border=\"1\" class=\"dataframe\">\n",
              "  <thead>\n",
              "    <tr style=\"text-align: right;\">\n",
              "      <th></th>\n",
              "      <th>airline_sentiment</th>\n",
              "      <th>text</th>\n",
              "    </tr>\n",
              "  </thead>\n",
              "  <tbody>\n",
              "    <tr>\n",
              "      <th>0</th>\n",
              "      <td>neutral</td>\n",
              "      <td>@VirginAmerica What @dhepburn said.</td>\n",
              "    </tr>\n",
              "    <tr>\n",
              "      <th>1</th>\n",
              "      <td>positive</td>\n",
              "      <td>@VirginAmerica plus you've added commercials t...</td>\n",
              "    </tr>\n",
              "    <tr>\n",
              "      <th>2</th>\n",
              "      <td>neutral</td>\n",
              "      <td>@VirginAmerica I didn't today... Must mean I n...</td>\n",
              "    </tr>\n",
              "    <tr>\n",
              "      <th>3</th>\n",
              "      <td>negative</td>\n",
              "      <td>@VirginAmerica it's really aggressive to blast...</td>\n",
              "    </tr>\n",
              "    <tr>\n",
              "      <th>4</th>\n",
              "      <td>negative</td>\n",
              "      <td>@VirginAmerica and it's a really big bad thing...</td>\n",
              "    </tr>\n",
              "  </tbody>\n",
              "</table>\n",
              "</div>"
            ],
            "text/plain": [
              "  airline_sentiment                                               text\n",
              "0           neutral                @VirginAmerica What @dhepburn said.\n",
              "1          positive  @VirginAmerica plus you've added commercials t...\n",
              "2           neutral  @VirginAmerica I didn't today... Must mean I n...\n",
              "3          negative  @VirginAmerica it's really aggressive to blast...\n",
              "4          negative  @VirginAmerica and it's a really big bad thing..."
            ]
          },
          "metadata": {
            "tags": []
          },
          "execution_count": 9
        }
      ]
    },
    {
      "cell_type": "markdown",
      "metadata": {
        "id": "vq0lQACeIjhT"
      },
      "source": [
        "### 3.  Text pre-processing: Data preparation. (20 Marks) \n",
        "    a.  Html tag removal. \n",
        "    b.  Tokenization. \n",
        "    c.  Remove the numbers. \n",
        "    d.  Removal of Special Characters and Punctuations. \n",
        "    e.  Conversion to lowercase. \n",
        "    f.  Lemmatize or stemming. \n",
        "    g.  Join the words in the list to convert back to text string in the dataframe. (So that each row \n",
        "    contains the data in text format.) \n",
        "    h.  Print first 5 rows of data after pre-processing. "
      ]
    },
    {
      "cell_type": "code",
      "metadata": {
        "colab": {
          "base_uri": "https://localhost:8080/",
          "height": 195
        },
        "id": "1qfvqUVoIjhU",
        "outputId": "de33ab6f-c991-4b07-aa9a-484a5b07bea8"
      },
      "source": [
        "# a. Removal of the http link using Regular Expression.\n",
        "\n",
        "# Using BeautifulSoup to remove html tags\n",
        "\n",
        "# text in each line is replaced by clean_text which has been processed by html.parser\n",
        "# \n",
        "from bs4 import BeautifulSoup\n",
        "for i, row in data.iterrows():\n",
        "    clean_text = BeautifulSoup(data.at[i, 'text'], \"html.parser\")\n",
        "    data.at[i,'text'] = clean_text\n",
        "data.head()"
      ],
      "execution_count": null,
      "outputs": [
        {
          "output_type": "execute_result",
          "data": {
            "text/html": [
              "<div>\n",
              "<style scoped>\n",
              "    .dataframe tbody tr th:only-of-type {\n",
              "        vertical-align: middle;\n",
              "    }\n",
              "\n",
              "    .dataframe tbody tr th {\n",
              "        vertical-align: top;\n",
              "    }\n",
              "\n",
              "    .dataframe thead th {\n",
              "        text-align: right;\n",
              "    }\n",
              "</style>\n",
              "<table border=\"1\" class=\"dataframe\">\n",
              "  <thead>\n",
              "    <tr style=\"text-align: right;\">\n",
              "      <th></th>\n",
              "      <th>airline_sentiment</th>\n",
              "      <th>text</th>\n",
              "    </tr>\n",
              "  </thead>\n",
              "  <tbody>\n",
              "    <tr>\n",
              "      <th>0</th>\n",
              "      <td>neutral</td>\n",
              "      <td>[@VirginAmerica What @dhepburn said.]</td>\n",
              "    </tr>\n",
              "    <tr>\n",
              "      <th>1</th>\n",
              "      <td>positive</td>\n",
              "      <td>[@VirginAmerica plus you've added commercials ...</td>\n",
              "    </tr>\n",
              "    <tr>\n",
              "      <th>2</th>\n",
              "      <td>neutral</td>\n",
              "      <td>[@VirginAmerica I didn't today... Must mean I ...</td>\n",
              "    </tr>\n",
              "    <tr>\n",
              "      <th>3</th>\n",
              "      <td>negative</td>\n",
              "      <td>[@VirginAmerica it's really aggressive to blas...</td>\n",
              "    </tr>\n",
              "    <tr>\n",
              "      <th>4</th>\n",
              "      <td>negative</td>\n",
              "      <td>[@VirginAmerica and it's a really big bad thin...</td>\n",
              "    </tr>\n",
              "  </tbody>\n",
              "</table>\n",
              "</div>"
            ],
            "text/plain": [
              "  airline_sentiment                                               text\n",
              "0           neutral              [@VirginAmerica What @dhepburn said.]\n",
              "1          positive  [@VirginAmerica plus you've added commercials ...\n",
              "2           neutral  [@VirginAmerica I didn't today... Must mean I ...\n",
              "3          negative  [@VirginAmerica it's really aggressive to blas...\n",
              "4          negative  [@VirginAmerica and it's a really big bad thin..."
            ]
          },
          "metadata": {
            "tags": []
          },
          "execution_count": 10
        }
      ]
    },
    {
      "cell_type": "code",
      "metadata": {
        "colab": {
          "base_uri": "https://localhost:8080/",
          "height": 195
        },
        "id": "RuhJ_6-QKw1H",
        "outputId": "a405eebb-0d1d-4ab2-e239-28b9d738c114"
      },
      "source": [
        "# We will replace contractions first and then remove the punctuation\n",
        "for i, row in data.iterrows():\n",
        "    clean_text = contractions.fix(str(data.at[i, 'text']))\n",
        "    data.at[i,'text'] = clean_text\n",
        "data.head()"
      ],
      "execution_count": null,
      "outputs": [
        {
          "output_type": "execute_result",
          "data": {
            "text/html": [
              "<div>\n",
              "<style scoped>\n",
              "    .dataframe tbody tr th:only-of-type {\n",
              "        vertical-align: middle;\n",
              "    }\n",
              "\n",
              "    .dataframe tbody tr th {\n",
              "        vertical-align: top;\n",
              "    }\n",
              "\n",
              "    .dataframe thead th {\n",
              "        text-align: right;\n",
              "    }\n",
              "</style>\n",
              "<table border=\"1\" class=\"dataframe\">\n",
              "  <thead>\n",
              "    <tr style=\"text-align: right;\">\n",
              "      <th></th>\n",
              "      <th>airline_sentiment</th>\n",
              "      <th>text</th>\n",
              "    </tr>\n",
              "  </thead>\n",
              "  <tbody>\n",
              "    <tr>\n",
              "      <th>0</th>\n",
              "      <td>neutral</td>\n",
              "      <td>@VirginAmerica What @dhepburn said.</td>\n",
              "    </tr>\n",
              "    <tr>\n",
              "      <th>1</th>\n",
              "      <td>positive</td>\n",
              "      <td>@VirginAmerica plus you have added commercials...</td>\n",
              "    </tr>\n",
              "    <tr>\n",
              "      <th>2</th>\n",
              "      <td>neutral</td>\n",
              "      <td>@VirginAmerica I did not today... Must mean I ...</td>\n",
              "    </tr>\n",
              "    <tr>\n",
              "      <th>3</th>\n",
              "      <td>negative</td>\n",
              "      <td>@VirginAmerica it is really aggressive to blas...</td>\n",
              "    </tr>\n",
              "    <tr>\n",
              "      <th>4</th>\n",
              "      <td>negative</td>\n",
              "      <td>@VirginAmerica and it is a really big bad thin...</td>\n",
              "    </tr>\n",
              "  </tbody>\n",
              "</table>\n",
              "</div>"
            ],
            "text/plain": [
              "  airline_sentiment                                               text\n",
              "0           neutral                @VirginAmerica What @dhepburn said.\n",
              "1          positive  @VirginAmerica plus you have added commercials...\n",
              "2           neutral  @VirginAmerica I did not today... Must mean I ...\n",
              "3          negative  @VirginAmerica it is really aggressive to blas...\n",
              "4          negative  @VirginAmerica and it is a really big bad thin..."
            ]
          },
          "metadata": {
            "tags": []
          },
          "execution_count": 11
        }
      ]
    },
    {
      "cell_type": "code",
      "metadata": {
        "colab": {
          "base_uri": "https://localhost:8080/",
          "height": 343
        },
        "id": "L7EHmGG9IjhU",
        "outputId": "7502cd42-aa56-4f9c-eaab-c091f4839c29"
      },
      "source": [
        "# c. Remove numbers and d. Remove special characters and punctuations\n",
        "#     performed in one step\n",
        "\n",
        "\n",
        "for i, row in data.iterrows():\n",
        "    pattern = r'[^a-zA-Z\\s]' \n",
        "    text1 = data.at[i, 'text']\n",
        "    \n",
        "    clean_text= re.sub(pattern,'', str(text1) )\n",
        "    data.at[i,'text'] = clean_text\n",
        "data.head(10)"
      ],
      "execution_count": null,
      "outputs": [
        {
          "output_type": "execute_result",
          "data": {
            "text/html": [
              "<div>\n",
              "<style scoped>\n",
              "    .dataframe tbody tr th:only-of-type {\n",
              "        vertical-align: middle;\n",
              "    }\n",
              "\n",
              "    .dataframe tbody tr th {\n",
              "        vertical-align: top;\n",
              "    }\n",
              "\n",
              "    .dataframe thead th {\n",
              "        text-align: right;\n",
              "    }\n",
              "</style>\n",
              "<table border=\"1\" class=\"dataframe\">\n",
              "  <thead>\n",
              "    <tr style=\"text-align: right;\">\n",
              "      <th></th>\n",
              "      <th>airline_sentiment</th>\n",
              "      <th>text</th>\n",
              "    </tr>\n",
              "  </thead>\n",
              "  <tbody>\n",
              "    <tr>\n",
              "      <th>0</th>\n",
              "      <td>neutral</td>\n",
              "      <td>VirginAmerica What dhepburn said</td>\n",
              "    </tr>\n",
              "    <tr>\n",
              "      <th>1</th>\n",
              "      <td>positive</td>\n",
              "      <td>VirginAmerica plus you have added commercials ...</td>\n",
              "    </tr>\n",
              "    <tr>\n",
              "      <th>2</th>\n",
              "      <td>neutral</td>\n",
              "      <td>VirginAmerica I did not today Must mean I need...</td>\n",
              "    </tr>\n",
              "    <tr>\n",
              "      <th>3</th>\n",
              "      <td>negative</td>\n",
              "      <td>VirginAmerica it is really aggressive to blast...</td>\n",
              "    </tr>\n",
              "    <tr>\n",
              "      <th>4</th>\n",
              "      <td>negative</td>\n",
              "      <td>VirginAmerica and it is a really big bad thing...</td>\n",
              "    </tr>\n",
              "    <tr>\n",
              "      <th>5</th>\n",
              "      <td>negative</td>\n",
              "      <td>VirginAmerica seriously would pay  a flight fo...</td>\n",
              "    </tr>\n",
              "    <tr>\n",
              "      <th>6</th>\n",
              "      <td>positive</td>\n",
              "      <td>VirginAmerica yes nearly every time I fly VX t...</td>\n",
              "    </tr>\n",
              "    <tr>\n",
              "      <th>7</th>\n",
              "      <td>neutral</td>\n",
              "      <td>VirginAmerica Really missed a prime opportunit...</td>\n",
              "    </tr>\n",
              "    <tr>\n",
              "      <th>8</th>\n",
              "      <td>positive</td>\n",
              "      <td>virginamerica Well I did notbut NOW I DO D</td>\n",
              "    </tr>\n",
              "    <tr>\n",
              "      <th>9</th>\n",
              "      <td>positive</td>\n",
              "      <td>VirginAmerica it was amazing and arrived an ho...</td>\n",
              "    </tr>\n",
              "  </tbody>\n",
              "</table>\n",
              "</div>"
            ],
            "text/plain": [
              "  airline_sentiment                                               text\n",
              "0           neutral                   VirginAmerica What dhepburn said\n",
              "1          positive  VirginAmerica plus you have added commercials ...\n",
              "2           neutral  VirginAmerica I did not today Must mean I need...\n",
              "3          negative  VirginAmerica it is really aggressive to blast...\n",
              "4          negative  VirginAmerica and it is a really big bad thing...\n",
              "5          negative  VirginAmerica seriously would pay  a flight fo...\n",
              "6          positive  VirginAmerica yes nearly every time I fly VX t...\n",
              "7           neutral  VirginAmerica Really missed a prime opportunit...\n",
              "8          positive         virginamerica Well I did notbut NOW I DO D\n",
              "9          positive  VirginAmerica it was amazing and arrived an ho..."
            ]
          },
          "metadata": {
            "tags": []
          },
          "execution_count": 13
        }
      ]
    },
    {
      "cell_type": "code",
      "metadata": {
        "colab": {
          "base_uri": "https://localhost:8080/",
          "height": 343
        },
        "id": "lWpMa8LcIjhU",
        "outputId": "ce502df3-871e-4796-873e-2f0daed6bce2"
      },
      "source": [
        "#e. Conversion to lower case\n",
        "for i, row in data.iterrows():\n",
        "    text1 = data.at[i, 'text']\n",
        "    data.at[i,'text'] = text1.lower()\n",
        "    \n",
        "data.head(10)"
      ],
      "execution_count": null,
      "outputs": [
        {
          "output_type": "execute_result",
          "data": {
            "text/html": [
              "<div>\n",
              "<style scoped>\n",
              "    .dataframe tbody tr th:only-of-type {\n",
              "        vertical-align: middle;\n",
              "    }\n",
              "\n",
              "    .dataframe tbody tr th {\n",
              "        vertical-align: top;\n",
              "    }\n",
              "\n",
              "    .dataframe thead th {\n",
              "        text-align: right;\n",
              "    }\n",
              "</style>\n",
              "<table border=\"1\" class=\"dataframe\">\n",
              "  <thead>\n",
              "    <tr style=\"text-align: right;\">\n",
              "      <th></th>\n",
              "      <th>airline_sentiment</th>\n",
              "      <th>text</th>\n",
              "    </tr>\n",
              "  </thead>\n",
              "  <tbody>\n",
              "    <tr>\n",
              "      <th>0</th>\n",
              "      <td>neutral</td>\n",
              "      <td>virginamerica what dhepburn said</td>\n",
              "    </tr>\n",
              "    <tr>\n",
              "      <th>1</th>\n",
              "      <td>positive</td>\n",
              "      <td>virginamerica plus you have added commercials ...</td>\n",
              "    </tr>\n",
              "    <tr>\n",
              "      <th>2</th>\n",
              "      <td>neutral</td>\n",
              "      <td>virginamerica i did not today must mean i need...</td>\n",
              "    </tr>\n",
              "    <tr>\n",
              "      <th>3</th>\n",
              "      <td>negative</td>\n",
              "      <td>virginamerica it is really aggressive to blast...</td>\n",
              "    </tr>\n",
              "    <tr>\n",
              "      <th>4</th>\n",
              "      <td>negative</td>\n",
              "      <td>virginamerica and it is a really big bad thing...</td>\n",
              "    </tr>\n",
              "    <tr>\n",
              "      <th>5</th>\n",
              "      <td>negative</td>\n",
              "      <td>virginamerica seriously would pay  a flight fo...</td>\n",
              "    </tr>\n",
              "    <tr>\n",
              "      <th>6</th>\n",
              "      <td>positive</td>\n",
              "      <td>virginamerica yes nearly every time i fly vx t...</td>\n",
              "    </tr>\n",
              "    <tr>\n",
              "      <th>7</th>\n",
              "      <td>neutral</td>\n",
              "      <td>virginamerica really missed a prime opportunit...</td>\n",
              "    </tr>\n",
              "    <tr>\n",
              "      <th>8</th>\n",
              "      <td>positive</td>\n",
              "      <td>virginamerica well i did notbut now i do d</td>\n",
              "    </tr>\n",
              "    <tr>\n",
              "      <th>9</th>\n",
              "      <td>positive</td>\n",
              "      <td>virginamerica it was amazing and arrived an ho...</td>\n",
              "    </tr>\n",
              "  </tbody>\n",
              "</table>\n",
              "</div>"
            ],
            "text/plain": [
              "  airline_sentiment                                               text\n",
              "0           neutral                   virginamerica what dhepburn said\n",
              "1          positive  virginamerica plus you have added commercials ...\n",
              "2           neutral  virginamerica i did not today must mean i need...\n",
              "3          negative  virginamerica it is really aggressive to blast...\n",
              "4          negative  virginamerica and it is a really big bad thing...\n",
              "5          negative  virginamerica seriously would pay  a flight fo...\n",
              "6          positive  virginamerica yes nearly every time i fly vx t...\n",
              "7           neutral  virginamerica really missed a prime opportunit...\n",
              "8          positive         virginamerica well i did notbut now i do d\n",
              "9          positive  virginamerica it was amazing and arrived an ho..."
            ]
          },
          "metadata": {
            "tags": []
          },
          "execution_count": 14
        }
      ]
    },
    {
      "cell_type": "code",
      "metadata": {
        "colab": {
          "base_uri": "https://localhost:8080/",
          "height": 195
        },
        "id": "-2czJL0YIjhV",
        "outputId": "c1002ac6-9a6e-42c4-b6ec-cc9aec225ced"
      },
      "source": [
        "#b. tokenization\n",
        "\n",
        "from nltk.tokenize.toktok import ToktokTokenizer\n",
        "tokenizer=ToktokTokenizer()\n",
        "for i, row in data.iterrows():\n",
        "    tokenized_text= tokenizer.tokenize(data.at[i, 'text'])\n",
        "    data.at[i,'text'] = tokenized_text\n",
        "data.head()"
      ],
      "execution_count": null,
      "outputs": [
        {
          "output_type": "execute_result",
          "data": {
            "text/html": [
              "<div>\n",
              "<style scoped>\n",
              "    .dataframe tbody tr th:only-of-type {\n",
              "        vertical-align: middle;\n",
              "    }\n",
              "\n",
              "    .dataframe tbody tr th {\n",
              "        vertical-align: top;\n",
              "    }\n",
              "\n",
              "    .dataframe thead th {\n",
              "        text-align: right;\n",
              "    }\n",
              "</style>\n",
              "<table border=\"1\" class=\"dataframe\">\n",
              "  <thead>\n",
              "    <tr style=\"text-align: right;\">\n",
              "      <th></th>\n",
              "      <th>airline_sentiment</th>\n",
              "      <th>text</th>\n",
              "    </tr>\n",
              "  </thead>\n",
              "  <tbody>\n",
              "    <tr>\n",
              "      <th>0</th>\n",
              "      <td>neutral</td>\n",
              "      <td>[virginamerica, what, dhepburn, said]</td>\n",
              "    </tr>\n",
              "    <tr>\n",
              "      <th>1</th>\n",
              "      <td>positive</td>\n",
              "      <td>[virginamerica, plus, you, have, added, commer...</td>\n",
              "    </tr>\n",
              "    <tr>\n",
              "      <th>2</th>\n",
              "      <td>neutral</td>\n",
              "      <td>[virginamerica, i, did, not, today, must, mean...</td>\n",
              "    </tr>\n",
              "    <tr>\n",
              "      <th>3</th>\n",
              "      <td>negative</td>\n",
              "      <td>[virginamerica, it, is, really, aggressive, to...</td>\n",
              "    </tr>\n",
              "    <tr>\n",
              "      <th>4</th>\n",
              "      <td>negative</td>\n",
              "      <td>[virginamerica, and, it, is, a, really, big, b...</td>\n",
              "    </tr>\n",
              "  </tbody>\n",
              "</table>\n",
              "</div>"
            ],
            "text/plain": [
              "  airline_sentiment                                               text\n",
              "0           neutral              [virginamerica, what, dhepburn, said]\n",
              "1          positive  [virginamerica, plus, you, have, added, commer...\n",
              "2           neutral  [virginamerica, i, did, not, today, must, mean...\n",
              "3          negative  [virginamerica, it, is, really, aggressive, to...\n",
              "4          negative  [virginamerica, and, it, is, a, really, big, b..."
            ]
          },
          "metadata": {
            "tags": []
          },
          "execution_count": 15
        }
      ]
    },
    {
      "cell_type": "code",
      "metadata": {
        "colab": {
          "base_uri": "https://localhost:8080/"
        },
        "id": "ts9K3kqJ8woS",
        "outputId": "29e04d82-b2ab-42a2-d2e3-818996782008"
      },
      "source": [
        "stopwords"
      ],
      "execution_count": null,
      "outputs": [
        {
          "output_type": "execute_result",
          "data": {
            "text/plain": [
              "['has',\n",
              " 'at',\n",
              " 'theirs',\n",
              " 'off',\n",
              " 'hers',\n",
              " 'here',\n",
              " 'had',\n",
              " \"it's\",\n",
              " 'being',\n",
              " 'some',\n",
              " 'what',\n",
              " 'which',\n",
              " 'her',\n",
              " \"you're\",\n",
              " 'been',\n",
              " 're',\n",
              " 'itself',\n",
              " 'above',\n",
              " 'can',\n",
              " 'yours',\n",
              " 'further',\n",
              " 'have',\n",
              " 'few',\n",
              " 'aren',\n",
              " 'am',\n",
              " 'against',\n",
              " 'how',\n",
              " 'they',\n",
              " 'myself',\n",
              " 'whom',\n",
              " 'these',\n",
              " 'me',\n",
              " 'your',\n",
              " 'most',\n",
              " 'doing',\n",
              " 'same',\n",
              " 'should',\n",
              " 'that',\n",
              " 'there',\n",
              " 'yourselves',\n",
              " 'you',\n",
              " 'from',\n",
              " 'during',\n",
              " \"you'll\",\n",
              " 'couldn',\n",
              " 'ain',\n",
              " 'we',\n",
              " 'his',\n",
              " 'she',\n",
              " 'having',\n",
              " 'them',\n",
              " 'himself',\n",
              " 'other',\n",
              " 'a',\n",
              " 'through',\n",
              " 'down',\n",
              " 'both',\n",
              " 'when',\n",
              " 'more',\n",
              " 'all',\n",
              " 'no',\n",
              " \"should've\",\n",
              " 't',\n",
              " 'so',\n",
              " 'will',\n",
              " 'any',\n",
              " 'ourselves',\n",
              " 'each',\n",
              " 'was',\n",
              " 'do',\n",
              " 'to',\n",
              " 'with',\n",
              " 'is',\n",
              " 'were',\n",
              " 'in',\n",
              " 'then',\n",
              " 'below',\n",
              " \"you'd\",\n",
              " 'just',\n",
              " 'until',\n",
              " 'again',\n",
              " 'themselves',\n",
              " 'by',\n",
              " 'than',\n",
              " 'did',\n",
              " 'between',\n",
              " \"aren't\",\n",
              " 'herself',\n",
              " 'over',\n",
              " 'don',\n",
              " 'where',\n",
              " 've',\n",
              " 'about',\n",
              " 'be',\n",
              " 'and',\n",
              " 'under',\n",
              " 's',\n",
              " 'very',\n",
              " 'on',\n",
              " 'such',\n",
              " 'yourself',\n",
              " 'll',\n",
              " 'does',\n",
              " 'are',\n",
              " 'he',\n",
              " 'its',\n",
              " 'it',\n",
              " 'own',\n",
              " \"you've\",\n",
              " 'if',\n",
              " 'y',\n",
              " 'only',\n",
              " 'ours',\n",
              " 'the',\n",
              " 'after',\n",
              " 'because',\n",
              " 'd',\n",
              " 'into',\n",
              " 'but',\n",
              " 'why',\n",
              " 'up',\n",
              " 'their',\n",
              " 'once',\n",
              " 'him',\n",
              " 'who',\n",
              " 'an',\n",
              " 'out',\n",
              " 'this',\n",
              " 'o',\n",
              " 'as',\n",
              " \"don't\",\n",
              " 'm',\n",
              " \"she's\",\n",
              " 'too',\n",
              " 'my',\n",
              " \"that'll\",\n",
              " 'or',\n",
              " 'while',\n",
              " 'those',\n",
              " 'of',\n",
              " 'before',\n",
              " 'our',\n",
              " 'i',\n",
              " 'for',\n",
              " 'now',\n",
              " 'nor']"
            ]
          },
          "metadata": {
            "tags": []
          },
          "execution_count": 18
        }
      ]
    },
    {
      "cell_type": "code",
      "metadata": {
        "id": "_UaAhm5eRn90"
      },
      "source": [
        "#Remove custom list to remove the negation being taken out as part of stopwords\n",
        "\n",
        "customlist = ['not', \"couldn't\", 'didn', \"didn't\", 'doesn', \"doesn't\", 'hadn', \"hadn't\", 'hasn',\n",
        "        \"hasn't\", 'haven', \"haven't\", 'isn', \"isn't\", 'ma', 'mightn', \"mightn't\", 'mustn',\n",
        "        \"mustn't\", 'needn', \"needn't\", 'shan', \"shan't\", 'shouldn', \"shouldn't\", 'wasn',\n",
        "        \"wasn't\", 'weren', \"weren't\", 'won', \"won't\", 'wouldn', \"wouldn't\"]\n",
        "\n",
        "# Set custom stop-word's list as not, couldn't etc. words matter in Sentiment, so not removing them from original data.\n",
        "stopwords = list(set(stopwords) - set(customlist))  "
      ],
      "execution_count": null,
      "outputs": []
    },
    {
      "cell_type": "code",
      "metadata": {
        "colab": {
          "base_uri": "https://localhost:8080/",
          "height": 195
        },
        "id": "xfKBWcLFRHdO",
        "outputId": "12a6e40d-57b0-4a9b-e30f-9cbe7ffdd134"
      },
      "source": [
        "#implement stopwords\n",
        "def remove_stopwords(words):\n",
        "    \"\"\"Remove stop words from list of tokenized words\"\"\"\n",
        "    new_words = []\n",
        "    for word in words:\n",
        "        if word not in stopwords:\n",
        "            new_words.append(word)\n",
        "    return new_words\n",
        "\n",
        "data['text'] = data.apply(lambda row: remove_stopwords(row['text']), axis=1)\n",
        "data.head()"
      ],
      "execution_count": null,
      "outputs": [
        {
          "output_type": "execute_result",
          "data": {
            "text/html": [
              "<div>\n",
              "<style scoped>\n",
              "    .dataframe tbody tr th:only-of-type {\n",
              "        vertical-align: middle;\n",
              "    }\n",
              "\n",
              "    .dataframe tbody tr th {\n",
              "        vertical-align: top;\n",
              "    }\n",
              "\n",
              "    .dataframe thead th {\n",
              "        text-align: right;\n",
              "    }\n",
              "</style>\n",
              "<table border=\"1\" class=\"dataframe\">\n",
              "  <thead>\n",
              "    <tr style=\"text-align: right;\">\n",
              "      <th></th>\n",
              "      <th>airline_sentiment</th>\n",
              "      <th>text</th>\n",
              "    </tr>\n",
              "  </thead>\n",
              "  <tbody>\n",
              "    <tr>\n",
              "      <th>0</th>\n",
              "      <td>neutral</td>\n",
              "      <td>[virginamerica, dhepburn, said]</td>\n",
              "    </tr>\n",
              "    <tr>\n",
              "      <th>1</th>\n",
              "      <td>positive</td>\n",
              "      <td>[virginamerica, plus, added, commercials, expe...</td>\n",
              "    </tr>\n",
              "    <tr>\n",
              "      <th>2</th>\n",
              "      <td>neutral</td>\n",
              "      <td>[virginamerica, not, today, must, mean, need, ...</td>\n",
              "    </tr>\n",
              "    <tr>\n",
              "      <th>3</th>\n",
              "      <td>negative</td>\n",
              "      <td>[virginamerica, really, aggressive, blast, obn...</td>\n",
              "    </tr>\n",
              "    <tr>\n",
              "      <th>4</th>\n",
              "      <td>negative</td>\n",
              "      <td>[virginamerica, really, big, bad, thing]</td>\n",
              "    </tr>\n",
              "  </tbody>\n",
              "</table>\n",
              "</div>"
            ],
            "text/plain": [
              "  airline_sentiment                                               text\n",
              "0           neutral                    [virginamerica, dhepburn, said]\n",
              "1          positive  [virginamerica, plus, added, commercials, expe...\n",
              "2           neutral  [virginamerica, not, today, must, mean, need, ...\n",
              "3          negative  [virginamerica, really, aggressive, blast, obn...\n",
              "4          negative           [virginamerica, really, big, bad, thing]"
            ]
          },
          "metadata": {
            "tags": []
          },
          "execution_count": 21
        }
      ]
    },
    {
      "cell_type": "code",
      "metadata": {
        "id": "CU3YEUJ8IjhV"
      },
      "source": [
        "from nltk.stem import LancasterStemmer, WordNetLemmatizer\n",
        "\n",
        "def lemmatize_verbs(words):\n",
        "    \"\"\"Lemmatize verbs in list of tokenized words\"\"\"\n",
        "    lemmatizer = WordNetLemmatizer()\n",
        "    lemmas = []                           # Create empty list to store pre-processed words.\n",
        "    for word in words:\n",
        "        lemma = lemmatizer.lemmatize(word, pos='v')\n",
        "        lemmas.append(lemma)              # Append processed words to new list.\n",
        "    return lemmas"
      ],
      "execution_count": null,
      "outputs": []
    },
    {
      "cell_type": "code",
      "metadata": {
        "colab": {
          "base_uri": "https://localhost:8080/",
          "height": 343
        },
        "id": "SJrgHVtTIjhV",
        "outputId": "3e33f282-4a62-47ce-ad7d-60ca461d632c"
      },
      "source": [
        "#f. Lemmatization step\n",
        "\n",
        "\n",
        "for i, row in data.iterrows():\n",
        "    words = data.at[i, 'text']\n",
        "    lemmas = lemmatize_verbs(words)\n",
        "    data.at[i,'text'] = lemmas\n",
        "    \n",
        "data.head(10)"
      ],
      "execution_count": null,
      "outputs": [
        {
          "output_type": "execute_result",
          "data": {
            "text/html": [
              "<div>\n",
              "<style scoped>\n",
              "    .dataframe tbody tr th:only-of-type {\n",
              "        vertical-align: middle;\n",
              "    }\n",
              "\n",
              "    .dataframe tbody tr th {\n",
              "        vertical-align: top;\n",
              "    }\n",
              "\n",
              "    .dataframe thead th {\n",
              "        text-align: right;\n",
              "    }\n",
              "</style>\n",
              "<table border=\"1\" class=\"dataframe\">\n",
              "  <thead>\n",
              "    <tr style=\"text-align: right;\">\n",
              "      <th></th>\n",
              "      <th>airline_sentiment</th>\n",
              "      <th>text</th>\n",
              "    </tr>\n",
              "  </thead>\n",
              "  <tbody>\n",
              "    <tr>\n",
              "      <th>0</th>\n",
              "      <td>neutral</td>\n",
              "      <td>[virginamerica, dhepburn, say]</td>\n",
              "    </tr>\n",
              "    <tr>\n",
              "      <th>1</th>\n",
              "      <td>positive</td>\n",
              "      <td>[virginamerica, plus, add, commercials, experi...</td>\n",
              "    </tr>\n",
              "    <tr>\n",
              "      <th>2</th>\n",
              "      <td>neutral</td>\n",
              "      <td>[virginamerica, not, today, must, mean, need, ...</td>\n",
              "    </tr>\n",
              "    <tr>\n",
              "      <th>3</th>\n",
              "      <td>negative</td>\n",
              "      <td>[virginamerica, really, aggressive, blast, obn...</td>\n",
              "    </tr>\n",
              "    <tr>\n",
              "      <th>4</th>\n",
              "      <td>negative</td>\n",
              "      <td>[virginamerica, really, big, bad, thing]</td>\n",
              "    </tr>\n",
              "    <tr>\n",
              "      <th>5</th>\n",
              "      <td>negative</td>\n",
              "      <td>[virginamerica, seriously, would, pay, flight,...</td>\n",
              "    </tr>\n",
              "    <tr>\n",
              "      <th>6</th>\n",
              "      <td>positive</td>\n",
              "      <td>[virginamerica, yes, nearly, every, time, fly,...</td>\n",
              "    </tr>\n",
              "    <tr>\n",
              "      <th>7</th>\n",
              "      <td>neutral</td>\n",
              "      <td>[virginamerica, really, miss, prime, opportuni...</td>\n",
              "    </tr>\n",
              "    <tr>\n",
              "      <th>8</th>\n",
              "      <td>positive</td>\n",
              "      <td>[virginamerica, well, notbut]</td>\n",
              "    </tr>\n",
              "    <tr>\n",
              "      <th>9</th>\n",
              "      <td>positive</td>\n",
              "      <td>[virginamerica, amaze, arrive, hour, early, good]</td>\n",
              "    </tr>\n",
              "  </tbody>\n",
              "</table>\n",
              "</div>"
            ],
            "text/plain": [
              "  airline_sentiment                                               text\n",
              "0           neutral                     [virginamerica, dhepburn, say]\n",
              "1          positive  [virginamerica, plus, add, commercials, experi...\n",
              "2           neutral  [virginamerica, not, today, must, mean, need, ...\n",
              "3          negative  [virginamerica, really, aggressive, blast, obn...\n",
              "4          negative           [virginamerica, really, big, bad, thing]\n",
              "5          negative  [virginamerica, seriously, would, pay, flight,...\n",
              "6          positive  [virginamerica, yes, nearly, every, time, fly,...\n",
              "7           neutral  [virginamerica, really, miss, prime, opportuni...\n",
              "8          positive                      [virginamerica, well, notbut]\n",
              "9          positive  [virginamerica, amaze, arrive, hour, early, good]"
            ]
          },
          "metadata": {
            "tags": []
          },
          "execution_count": 24
        }
      ]
    },
    {
      "cell_type": "code",
      "metadata": {
        "colab": {
          "base_uri": "https://localhost:8080/",
          "height": 195
        },
        "id": "KO-J3PciIjhW",
        "outputId": "98e2b922-a1f1-4825-d944-575a179c5101"
      },
      "source": [
        "#g.  Join the words in the list to convert back to text string in the dataframe. (So that each row \n",
        "#     contains the data in text format.)\n",
        "for i, row in data.iterrows():\n",
        "    text1 = data.at[i, 'text']\n",
        "    clean_text= ' '.join(text1)\n",
        "    data.at[i,'text'] = clean_text\n",
        "data.head()"
      ],
      "execution_count": null,
      "outputs": [
        {
          "output_type": "execute_result",
          "data": {
            "text/html": [
              "<div>\n",
              "<style scoped>\n",
              "    .dataframe tbody tr th:only-of-type {\n",
              "        vertical-align: middle;\n",
              "    }\n",
              "\n",
              "    .dataframe tbody tr th {\n",
              "        vertical-align: top;\n",
              "    }\n",
              "\n",
              "    .dataframe thead th {\n",
              "        text-align: right;\n",
              "    }\n",
              "</style>\n",
              "<table border=\"1\" class=\"dataframe\">\n",
              "  <thead>\n",
              "    <tr style=\"text-align: right;\">\n",
              "      <th></th>\n",
              "      <th>airline_sentiment</th>\n",
              "      <th>text</th>\n",
              "    </tr>\n",
              "  </thead>\n",
              "  <tbody>\n",
              "    <tr>\n",
              "      <th>0</th>\n",
              "      <td>neutral</td>\n",
              "      <td>virginamerica dhepburn say</td>\n",
              "    </tr>\n",
              "    <tr>\n",
              "      <th>1</th>\n",
              "      <td>positive</td>\n",
              "      <td>virginamerica plus add commercials experience ...</td>\n",
              "    </tr>\n",
              "    <tr>\n",
              "      <th>2</th>\n",
              "      <td>neutral</td>\n",
              "      <td>virginamerica not today must mean need take an...</td>\n",
              "    </tr>\n",
              "    <tr>\n",
              "      <th>3</th>\n",
              "      <td>negative</td>\n",
              "      <td>virginamerica really aggressive blast obnoxiou...</td>\n",
              "    </tr>\n",
              "    <tr>\n",
              "      <th>4</th>\n",
              "      <td>negative</td>\n",
              "      <td>virginamerica really big bad thing</td>\n",
              "    </tr>\n",
              "  </tbody>\n",
              "</table>\n",
              "</div>"
            ],
            "text/plain": [
              "  airline_sentiment                                               text\n",
              "0           neutral                         virginamerica dhepburn say\n",
              "1          positive  virginamerica plus add commercials experience ...\n",
              "2           neutral  virginamerica not today must mean need take an...\n",
              "3          negative  virginamerica really aggressive blast obnoxiou...\n",
              "4          negative                 virginamerica really big bad thing"
            ]
          },
          "metadata": {
            "tags": []
          },
          "execution_count": 25
        }
      ]
    },
    {
      "cell_type": "markdown",
      "metadata": {
        "id": "LaYW1dqJN5Cf"
      },
      "source": [
        "### 4.  Vectorization: (10 Marks) \n",
        "    a.  Use CountVectorizer. \n",
        "    b.  Use TfidfVectorizer. "
      ]
    },
    {
      "cell_type": "code",
      "metadata": {
        "id": "Dkthx3SKIjhW"
      },
      "source": [
        "# a. Count Vectorization (Convert text data to numbers).\n",
        "from sklearn.feature_extraction.text import CountVectorizer\n",
        "\n",
        "vectorizer = CountVectorizer(max_features=1000)                # Keep only 1000 features as number of features will increase the processing time.\n",
        "data_features1 = vectorizer.fit_transform(data['text'])\n",
        "\n",
        "data_features1 = data_features1.toarray()                        # Convert the data features to array."
      ],
      "execution_count": null,
      "outputs": []
    },
    {
      "cell_type": "code",
      "metadata": {
        "colab": {
          "base_uri": "https://localhost:8080/"
        },
        "id": "54k1--GKS_Nu",
        "outputId": "12bf4b12-84d2-4b44-9f72-73140a13d6a5"
      },
      "source": [
        "data_features1.shape"
      ],
      "execution_count": null,
      "outputs": [
        {
          "output_type": "execute_result",
          "data": {
            "text/plain": [
              "(14640, 1000)"
            ]
          },
          "metadata": {
            "tags": []
          },
          "execution_count": 27
        }
      ]
    },
    {
      "cell_type": "code",
      "metadata": {
        "colab": {
          "base_uri": "https://localhost:8080/",
          "height": 195
        },
        "id": "A4J1pgmQTx3q",
        "outputId": "c6f0a20d-38d7-4a70-b366-3e6f3a829777"
      },
      "source": [
        "# Convert labels in airline sentiment category variable to numeric values of 1, 2, & 3\n",
        "data['airline_sentiment'] = data['airline_sentiment'].map({'negative':1,'neutral':2, 'positive':3})\n",
        "data.head()"
      ],
      "execution_count": null,
      "outputs": [
        {
          "output_type": "execute_result",
          "data": {
            "text/html": [
              "<div>\n",
              "<style scoped>\n",
              "    .dataframe tbody tr th:only-of-type {\n",
              "        vertical-align: middle;\n",
              "    }\n",
              "\n",
              "    .dataframe tbody tr th {\n",
              "        vertical-align: top;\n",
              "    }\n",
              "\n",
              "    .dataframe thead th {\n",
              "        text-align: right;\n",
              "    }\n",
              "</style>\n",
              "<table border=\"1\" class=\"dataframe\">\n",
              "  <thead>\n",
              "    <tr style=\"text-align: right;\">\n",
              "      <th></th>\n",
              "      <th>airline_sentiment</th>\n",
              "      <th>text</th>\n",
              "    </tr>\n",
              "  </thead>\n",
              "  <tbody>\n",
              "    <tr>\n",
              "      <th>0</th>\n",
              "      <td>2</td>\n",
              "      <td>virginamerica dhepburn say</td>\n",
              "    </tr>\n",
              "    <tr>\n",
              "      <th>1</th>\n",
              "      <td>3</td>\n",
              "      <td>virginamerica plus add commercials experience ...</td>\n",
              "    </tr>\n",
              "    <tr>\n",
              "      <th>2</th>\n",
              "      <td>2</td>\n",
              "      <td>virginamerica not today must mean need take an...</td>\n",
              "    </tr>\n",
              "    <tr>\n",
              "      <th>3</th>\n",
              "      <td>1</td>\n",
              "      <td>virginamerica really aggressive blast obnoxiou...</td>\n",
              "    </tr>\n",
              "    <tr>\n",
              "      <th>4</th>\n",
              "      <td>1</td>\n",
              "      <td>virginamerica really big bad thing</td>\n",
              "    </tr>\n",
              "  </tbody>\n",
              "</table>\n",
              "</div>"
            ],
            "text/plain": [
              "   airline_sentiment                                               text\n",
              "0                  2                         virginamerica dhepburn say\n",
              "1                  3  virginamerica plus add commercials experience ...\n",
              "2                  2  virginamerica not today must mean need take an...\n",
              "3                  1  virginamerica really aggressive blast obnoxiou...\n",
              "4                  1                 virginamerica really big bad thing"
            ]
          },
          "metadata": {
            "tags": []
          },
          "execution_count": 28
        }
      ]
    },
    {
      "cell_type": "code",
      "metadata": {
        "id": "hzAVuJY-TDjZ"
      },
      "source": [
        "labels = data['airline_sentiment']\n",
        "labels = labels.astype('int')"
      ],
      "execution_count": null,
      "outputs": []
    },
    {
      "cell_type": "code",
      "metadata": {
        "id": "xy1WE4YbUlXN"
      },
      "source": [
        "# Split data into training and testing set.\n",
        "\n",
        "from sklearn.model_selection import train_test_split\n",
        "\n",
        "X_train1, X_test1, y_train1, y_test1 = train_test_split(data_features1, labels, test_size=0.3, random_state=42)"
      ],
      "execution_count": null,
      "outputs": []
    },
    {
      "cell_type": "code",
      "metadata": {
        "colab": {
          "base_uri": "https://localhost:8080/"
        },
        "id": "OSYAZzJnUp4a",
        "outputId": "bb521d51-49f1-4c16-e856-0254be3788f2"
      },
      "source": [
        "# Using Random Forest to build model for the classification of reviews.\n",
        "# Also calculating the cross validation score.\n",
        "\n",
        "from sklearn.ensemble import RandomForestClassifier\n",
        "from sklearn.model_selection import cross_val_score\n",
        "\n",
        "forest1 = RandomForestClassifier(n_estimators=10, n_jobs=4)\n",
        "\n",
        "forest1 = forest1.fit(X_train1, y_train1)\n",
        "\n",
        "print(forest1)\n",
        "\n",
        "print(np.mean(cross_val_score(forest1, data_features1, labels, cv=10)))"
      ],
      "execution_count": null,
      "outputs": [
        {
          "output_type": "stream",
          "text": [
            "RandomForestClassifier(bootstrap=True, ccp_alpha=0.0, class_weight=None,\n",
            "                       criterion='gini', max_depth=None, max_features='auto',\n",
            "                       max_leaf_nodes=None, max_samples=None,\n",
            "                       min_impurity_decrease=0.0, min_impurity_split=None,\n",
            "                       min_samples_leaf=1, min_samples_split=2,\n",
            "                       min_weight_fraction_leaf=0.0, n_estimators=10, n_jobs=4,\n",
            "                       oob_score=False, random_state=None, verbose=0,\n",
            "                       warm_start=False)\n",
            "0.7107923497267759\n"
          ],
          "name": "stdout"
        }
      ]
    },
    {
      "cell_type": "code",
      "metadata": {
        "id": "vZB6vKHyU7vI"
      },
      "source": [
        "# Predict the result for test data using the model built above.\n",
        "\n",
        "result1 = forest1.predict(X_test1)"
      ],
      "execution_count": null,
      "outputs": []
    },
    {
      "cell_type": "markdown",
      "metadata": {
        "id": "961rjEX_VkM0"
      },
      "source": [
        "## The next steps are for TfidfVectorizer"
      ]
    },
    {
      "cell_type": "code",
      "metadata": {
        "colab": {
          "base_uri": "https://localhost:8080/"
        },
        "id": "2gs2I0KYVrtV",
        "outputId": "5b470392-a124-4e49-e454-89f0e0142385"
      },
      "source": [
        "# Using TfidfVectorizer to convert text data to numbers.\n",
        "\n",
        "from sklearn.feature_extraction.text import TfidfVectorizer\n",
        "\n",
        "vectorizer = TfidfVectorizer(max_features=1000)\n",
        "data_features = vectorizer.fit_transform(data['text'])\n",
        "\n",
        "data_features = data_features.toarray()\n",
        "\n",
        "data_features.shape"
      ],
      "execution_count": null,
      "outputs": [
        {
          "output_type": "execute_result",
          "data": {
            "text/plain": [
              "(14640, 1000)"
            ]
          },
          "metadata": {
            "tags": []
          },
          "execution_count": 33
        }
      ]
    },
    {
      "cell_type": "code",
      "metadata": {
        "id": "fsYFzHzcWLAL"
      },
      "source": [
        "X_train, X_test, y_train, y_test = train_test_split(data_features, labels, test_size=0.3, random_state=42)"
      ],
      "execution_count": null,
      "outputs": []
    },
    {
      "cell_type": "code",
      "metadata": {
        "colab": {
          "base_uri": "https://localhost:8080/"
        },
        "id": "WdRkfi-lVw8G",
        "outputId": "5e239584-0a12-40ff-d39b-454c2386ac36"
      },
      "source": [
        "# Using Random Forest to build model for the classification of reviews.\n",
        "# Also calculating the cross validation score.\n",
        "\n",
        "from sklearn.ensemble import RandomForestClassifier\n",
        "from sklearn.model_selection import cross_val_score\n",
        "\n",
        "import numpy as np\n",
        "\n",
        "forest = RandomForestClassifier(n_estimators=10, n_jobs=4)\n",
        "\n",
        "forest = forest.fit(X_train, y_train)\n",
        "\n",
        "print(forest)\n",
        "\n",
        "print(np.mean(cross_val_score(forest, data_features, labels, cv=10)))"
      ],
      "execution_count": null,
      "outputs": [
        {
          "output_type": "stream",
          "text": [
            "RandomForestClassifier(bootstrap=True, ccp_alpha=0.0, class_weight=None,\n",
            "                       criterion='gini', max_depth=None, max_features='auto',\n",
            "                       max_leaf_nodes=None, max_samples=None,\n",
            "                       min_impurity_decrease=0.0, min_impurity_split=None,\n",
            "                       min_samples_leaf=1, min_samples_split=2,\n",
            "                       min_weight_fraction_leaf=0.0, n_estimators=10, n_jobs=4,\n",
            "                       oob_score=False, random_state=None, verbose=0,\n",
            "                       warm_start=False)\n",
            "0.7115437158469945\n"
          ],
          "name": "stdout"
        }
      ]
    },
    {
      "cell_type": "code",
      "metadata": {
        "id": "7iMfAcqhV7Yk"
      },
      "source": [
        "result2 = forest.predict(X_test)"
      ],
      "execution_count": null,
      "outputs": []
    },
    {
      "cell_type": "markdown",
      "metadata": {
        "id": "kP9jqfCZI8-E"
      },
      "source": [
        "## 5.  Fit and evaluate model using both type of vectorization. (6+6 Marks) "
      ]
    },
    {
      "cell_type": "code",
      "metadata": {
        "colab": {
          "base_uri": "https://localhost:8080/",
          "height": 495
        },
        "id": "2wBmN1gXU_Im",
        "outputId": "81d017b9-834a-4669-ae49-bf77a7c689ec"
      },
      "source": [
        "# Print and plot Confusion matirx to get an idea of how the distribution of the prediction is, among all the classes.\n",
        "#This is for Count Vectorization \n",
        "\n",
        "import matplotlib.pyplot as plt\n",
        "import seaborn as sns\n",
        "from sklearn.metrics import confusion_matrix\n",
        "\n",
        "conf_mat1 = confusion_matrix(y_test1, result1)\n",
        "\n",
        "print(conf_mat1)\n",
        "\n",
        "df_cm = pd.DataFrame(conf_mat1, index = [i for i in \"123\"],\n",
        "                  columns = [i for i in \"123\"])\n",
        "plt.figure(figsize = (10,7))\n",
        "sns.heatmap(df_cm, annot=True, fmt='g')"
      ],
      "execution_count": null,
      "outputs": [
        {
          "output_type": "stream",
          "text": [
            "[[2489  239   86]\n",
            " [ 357  451   76]\n",
            " [ 169  124  401]]\n"
          ],
          "name": "stdout"
        },
        {
          "output_type": "execute_result",
          "data": {
            "text/plain": [
              "<matplotlib.axes._subplots.AxesSubplot at 0x7f2a7d082c50>"
            ]
          },
          "metadata": {
            "tags": []
          },
          "execution_count": 37
        },
        {
          "output_type": "display_data",
          "data": {
            "image/png": "[encoded data removed]",
            "text/plain": [
              "<Figure size 720x504 with 2 Axes>"
            ]
          },
          "metadata": {
            "tags": [],
            "needs_background": "light"
          }
        }
      ]
    },
    {
      "cell_type": "code",
      "metadata": {
        "colab": {
          "base_uri": "https://localhost:8080/",
          "height": 445
        },
        "id": "rG8lB0f5V_Oy",
        "outputId": "5ed73bcb-d0e8-48ef-f0b8-46ddd8acce9e"
      },
      "source": [
        "# Confusion Matrix for TfIDF Vectorization\n",
        "#\n",
        "import matplotlib.pyplot as plt\n",
        "import seaborn as sns\n",
        "from sklearn.metrics import confusion_matrix\n",
        "\n",
        "conf_mat = confusion_matrix(y_test, result2)\n",
        "\n",
        "df_cm = pd.DataFrame(conf_mat, index = [i for i in \"123\"],\n",
        "                  columns = [i for i in \"123\"])\n",
        "plt.figure(figsize = (10,7))\n",
        "sns.heatmap(df_cm, annot=True, fmt='g')"
      ],
      "execution_count": null,
      "outputs": [
        {
          "output_type": "execute_result",
          "data": {
            "text/plain": [
              "<matplotlib.axes._subplots.AxesSubplot at 0x7f2a7d0828d0>"
            ]
          },
          "metadata": {
            "tags": []
          },
          "execution_count": 38
        },
        {
          "output_type": "display_data",
          "data": {
            "image/png": "[encoded data removed]",
            "text/plain": [
              "<Figure size 720x504 with 2 Axes>"
            ]
          },
          "metadata": {
            "tags": [],
            "needs_background": "light"
          }
        }
      ]
    },
    {
      "cell_type": "code",
      "metadata": {
        "colab": {
          "base_uri": "https://localhost:8080/"
        },
        "id": "2FtptQB2S0oH",
        "outputId": "e908d6a8-e044-470c-cb35-f5fa410cc737"
      },
      "source": [
        "#Print Testing Accuracy Scores for both models\n",
        "print('Testing Accuracy Score for Count Vectorizer')\n",
        "print(forest1.score(X_test1, y_test1))\n",
        "print('Testing Accuracy Score for TfIDf Vectorizer')\n",
        "print(forest.score(X_test, y_test))"
      ],
      "execution_count": null,
      "outputs": [
        {
          "output_type": "stream",
          "text": [
            "Testing Accuracy Score for Count Vectorizer\n",
            "0.7607012750455373\n",
            "Testing Accuracy Score for TfIDf Vectorizer\n",
            "0.7561475409836066\n"
          ],
          "name": "stdout"
        }
      ]
    },
    {
      "cell_type": "code",
      "metadata": {
        "colab": {
          "base_uri": "https://localhost:8080/",
          "height": 755
        },
        "id": "mHAZkFL6ZfWB",
        "outputId": "928fef27-e7f8-4e1f-824b-779e8c379fba"
      },
      "source": [
        "from yellowbrick.classifier import ClassificationReport, ROCAUC\n",
        "\n",
        "# Visualize model performance with yellowbrick library for Count Vectorization\n",
        "plt.figure(figsize=(18,12))\n",
        "plt.title(\"ROC Curve and AUC\", fontsize=18)\n",
        "plt.xlabel(\"False Positive Rate\", fontsize=16)\n",
        "plt.ylabel(\"True Positive Rate\", fontsize=16)\n",
        "visualizer = ROCAUC(forest1, classes=[1,2,3])\n",
        "visualizer.fit(X_train1, y_train1)\n",
        "visualizer.score(X_test1, y_test1)\n",
        "plt.legend()"
      ],
      "execution_count": null,
      "outputs": [
        {
          "output_type": "execute_result",
          "data": {
            "text/plain": [
              "<matplotlib.legend.Legend at 0x7f2a7d5d0410>"
            ]
          },
          "metadata": {
            "tags": []
          },
          "execution_count": 56
        },
        {
          "output_type": "display_data",
          "data": {
            "image/png": "[encoded data removed]",
            "text/plain": [
              "<Figure size 1296x864 with 1 Axes>"
            ]
          },
          "metadata": {
            "tags": []
          }
        }
      ]
    },
    {
      "cell_type": "code",
      "metadata": {
        "colab": {
          "base_uri": "https://localhost:8080/",
          "height": 755
        },
        "id": "1VtwXOnIWryJ",
        "outputId": "b58a7b0e-e68b-48ca-c72c-22ae1406e40c"
      },
      "source": [
        "from yellowbrick.classifier import ClassificationReport, ROCAUC\n",
        "\n",
        "# Visualize model performance with yellowbrick library for TfIDF Vectorization\n",
        "plt.figure(figsize=(18,12))\n",
        "plt.title(\"ROC Curve and AUC\", fontsize=18)\n",
        "plt.xlabel(\"False Positive Rate\", fontsize=16)\n",
        "plt.ylabel(\"True Positive Rate\", fontsize=16)\n",
        "visualizer = ROCAUC(forest, classes=[1,2,3])\n",
        "visualizer.fit(X_train, y_train)\n",
        "visualizer.score(X_test, y_test)\n",
        "plt.legend()"
      ],
      "execution_count": null,
      "outputs": [
        {
          "output_type": "execute_result",
          "data": {
            "text/plain": [
              "<matplotlib.legend.Legend at 0x7f2a7d615c90>"
            ]
          },
          "metadata": {
            "tags": []
          },
          "execution_count": 57
        },
        {
          "output_type": "display_data",
          "data": {
            "image/png": "[encoded data removed]",
            "text/plain": [
              "<Figure size 1296x864 with 1 Axes>"
            ]
          },
          "metadata": {
            "tags": []
          }
        }
      ]
    },
    {
      "cell_type": "code",
      "metadata": {
        "colab": {
          "base_uri": "https://localhost:8080/",
          "height": 368
        },
        "id": "B-fwMybiRL_h",
        "outputId": "aabc0e0f-30cd-4621-8269-d6391ca625a3"
      },
      "source": [
        "# Visualize model performance with yellowbrick library\n",
        "# Count Vectorizer Report\n",
        "#This function shows Precision Recall and F1 score for each Class\n",
        "classes = [1,2,3]\n",
        "\n",
        "viz = ClassificationReport(forest1, classes=classes, support=False)\n",
        "\n",
        "viz.fit(X_train1, y_train1)        # Fit the visualizer and the model\n",
        "viz.score(X_test1, y_test1)        # Evaluate the model on the test data\n",
        "                    # Finalize and show the figure\n"
      ],
      "execution_count": null,
      "outputs": [
        {
          "output_type": "execute_result",
          "data": {
            "text/plain": [
              "0.7566029143897997"
            ]
          },
          "metadata": {
            "tags": []
          },
          "execution_count": 70
        },
        {
          "output_type": "display_data",
          "data": {
            "image/png": "[encoded data removed]",
            "text/plain": [
              "<Figure size 576x396 with 2 Axes>"
            ]
          },
          "metadata": {
            "tags": []
          }
        }
      ]
    },
    {
      "cell_type": "code",
      "metadata": {
        "colab": {
          "base_uri": "https://localhost:8080/",
          "height": 368
        },
        "id": "R35-PdbL_lT6",
        "outputId": "04d8b4e9-b37d-4737-a278-191fbc532608"
      },
      "source": [
        "# Visualize model performance with yellowbrick library\n",
        "#TfIdf Vectorizer Report\n",
        "##This function shows Precision Recall and F1 score for each Class\n",
        "classes = [1,2,3]\n",
        "\n",
        "viz = ClassificationReport(forest, classes=classes, support=False)\n",
        "\n",
        "viz.fit(X_train, y_train)        # Fit the visualizer and the model\n",
        "viz.score(X_test, y_test)        # Evaluate the model on the test data\n",
        "#viz.show()                       # Finalize and show the figure\n"
      ],
      "execution_count": null,
      "outputs": [
        {
          "output_type": "execute_result",
          "data": {
            "text/plain": [
              "0.7572859744990893"
            ]
          },
          "metadata": {
            "tags": []
          },
          "execution_count": 71
        },
        {
          "output_type": "display_data",
          "data": {
            "image/png": "[encoded data removed]",
            "text/plain": [
              "<Figure size 576x396 with 2 Axes>"
            ]
          },
          "metadata": {
            "tags": []
          }
        }
      ]
    },
    {
      "cell_type": "markdown",
      "metadata": {
        "id": "5jHBkpcIS-_s"
      },
      "source": [
        "## Evaluation of Count Vectorizer and TfIDF Vectorizer\n",
        "\n",
        "Even though both Count Vectorizer and TfIDF vectorizer gave very similar testing accuracy, we see that within the different classes there are differences. \n",
        "TfIDF Vectorizer appears to do better at finding TP for Class 1 (negative) and as a result Class 1 scores are better that Count Vectorizer Class 1 scores. "
      ]
    },
    {
      "cell_type": "markdown",
      "metadata": {
        "id": "UFKza-V3VWXp"
      },
      "source": [
        "## 6.  Summarize your understanding of the application of Various Pre-processing and Vectorization and performance of your model on this dataset. (8 Marks) "
      ]
    },
    {
      "cell_type": "markdown",
      "metadata": {
        "id": "86H6u0z6Vhm9"
      },
      "source": [
        "* Pre-processing steps are very important in NLP\n",
        "* We used comments made by airline customers and classified the comments in negative, neutral and positive. \n",
        "* The data was pre-processed using various techniques and libraries. \n",
        "* The pre-processing required appropriate sequence because operations such as contractions remover should be used before removing the punctuation marks. \n",
        "* Also, the operations such as number remover, punctuation mark remover, lower case conversion should be performed before using tokenization.\n",
        "* Lemmatization and Stopwords remover should be used after tokenization.\n",
        "* The join words should be used at the end of pre-processing before going to the step of vectorizer.\n",
        "* We used two types of Vectorizers Count Vectorizer and TfIDF vectorizer to convert the text data to numbers.\n",
        "* The model performed well with 75-76% accuracy. \n",
        "* It may have been possible to increase the accuracy of the model by increasing the size of the dataset or by making the data more balanced. \n",
        "* Notice that large percentage of data points are for negative comments.\n",
        "* Another way to increase the accuracy may be to add variations in pre-processing. \n",
        "* As a variation of pre-processing, I tried the revision of removing Stopwords. This impacted CountVectorizer and it seemed that TP for neutral and positive classes was reduced. "
      ]
    }
  ]
}